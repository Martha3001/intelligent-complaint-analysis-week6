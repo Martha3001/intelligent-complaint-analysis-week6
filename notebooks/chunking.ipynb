{
 "cells": [
  {
   "cell_type": "markdown",
   "id": "3dfeba07",
   "metadata": {},
   "source": [
    "# Text Chunking"
   ]
  },
  {
   "cell_type": "markdown",
   "id": "e80a5ef3",
   "metadata": {},
   "source": [
    "## Import Libaries"
   ]
  },
  {
   "cell_type": "code",
   "execution_count": 1,
   "id": "ddac64dc",
   "metadata": {},
   "outputs": [],
   "source": [
    "import pandas as pd\n",
    "from langchain.text_splitter import RecursiveCharacterTextSplitter"
   ]
  },
  {
   "cell_type": "markdown",
   "id": "be115dd0",
   "metadata": {},
   "source": [
    "## Load Filtered data"
   ]
  },
  {
   "cell_type": "code",
   "execution_count": 2,
   "id": "7f0a723c",
   "metadata": {},
   "outputs": [],
   "source": [
    "file_path = '../data/filtered_complaints.csv'\n",
    "df = pd.read_csv(file_path)"
   ]
  },
  {
   "cell_type": "code",
   "execution_count": 10,
   "id": "fb6ff0ee",
   "metadata": {},
   "outputs": [
    {
     "data": {
      "application/vnd.microsoft.datawrangler.viewer.v0+json": {
       "columns": [
        {
         "name": "index",
         "rawType": "int64",
         "type": "integer"
        },
        {
         "name": "Date received",
         "rawType": "object",
         "type": "string"
        },
        {
         "name": "Product",
         "rawType": "object",
         "type": "string"
        },
        {
         "name": "Sub-product",
         "rawType": "object",
         "type": "string"
        },
        {
         "name": "Issue",
         "rawType": "object",
         "type": "string"
        },
        {
         "name": "Sub-issue",
         "rawType": "object",
         "type": "string"
        },
        {
         "name": "Consumer complaint narrative",
         "rawType": "object",
         "type": "string"
        },
        {
         "name": "Company public response",
         "rawType": "object",
         "type": "string"
        },
        {
         "name": "Company",
         "rawType": "object",
         "type": "string"
        },
        {
         "name": "State",
         "rawType": "object",
         "type": "string"
        },
        {
         "name": "ZIP code",
         "rawType": "object",
         "type": "string"
        },
        {
         "name": "Tags",
         "rawType": "object",
         "type": "unknown"
        },
        {
         "name": "Consumer consent provided?",
         "rawType": "object",
         "type": "string"
        },
        {
         "name": "Submitted via",
         "rawType": "object",
         "type": "string"
        },
        {
         "name": "Date sent to company",
         "rawType": "object",
         "type": "string"
        },
        {
         "name": "Company response to consumer",
         "rawType": "object",
         "type": "string"
        },
        {
         "name": "Timely response?",
         "rawType": "object",
         "type": "string"
        },
        {
         "name": "Consumer disputed?",
         "rawType": "object",
         "type": "unknown"
        },
        {
         "name": "Complaint ID",
         "rawType": "int64",
         "type": "integer"
        },
        {
         "name": "narrative_length",
         "rawType": "int64",
         "type": "integer"
        },
        {
         "name": "cleaned_narrative",
         "rawType": "object",
         "type": "string"
        },
        {
         "name": "cleaned_narrative_length",
         "rawType": "int64",
         "type": "integer"
        },
        {
         "name": "narrative_chunks",
         "rawType": "object",
         "type": "unknown"
        }
       ],
       "ref": "5a842105-4617-4550-bcf6-ec66c2113e61",
       "rows": [
        [
         "0",
         "2025-06-13",
         "Credit card",
         "Store credit card",
         "Getting a credit card",
         "Card opened without my consent or knowledge",
         "A XXXX XXXX card was opened under my name by a fraudster. I received a notice from XXXX  that an account was just opened under my name. I reached out to XXXX XXXX to state that this activity was unauthorized and not me. XXXX XXXX confirmed this was fraudulent and immediately closed the card. However, they have failed to remove this from the three credit agencies and this fraud is now impacting my credit score based on a hard credit pull done by XXXX XXXX that was done by a fraudster.",
         "Company has responded to the consumer and the CFPB and chooses not to provide a public response",
         "CITIBANK, N.A.",
         "TX",
         "78230",
         "Servicemember",
         "Consent provided",
         "Web",
         "2025-06-13",
         "Closed with non-monetary relief",
         "Yes",
         null,
         "14069121",
         "91",
         "a xxxx xxxx card was opened under my name by a fraudster i received a notice from xxxx  that an account was just opened under my name i reached out to xxxx xxxx to state that this activity was unauthorized and not me xxxx xxxx confirmed this was fraudulent and immediately closed the card however they have failed to remove this from the three credit agencies and this fraud is now impacting my credit score based on a hard credit pull done by xxxx xxxx that was done by a fraudster",
         "91",
         "['a xxxx xxxx card was opened under my name by a fraudster i received a notice from xxxx  that an account was just opened under my name i reached out to xxxx xxxx to state that this activity was unauthorized and not me xxxx xxxx confirmed this was fraudulent', 'not me xxxx xxxx confirmed this was fraudulent and immediately closed the card however they have failed to remove this from the three credit agencies and this fraud is now impacting my credit score based on a hard credit pull done by xxxx xxxx that was', 'on a hard credit pull done by xxxx xxxx that was done by a fraudster']"
        ],
        [
         "1",
         "2025-06-12",
         "Credit card",
         "General-purpose credit card or charge card",
         "Other features, terms, or problems",
         "Other problem",
         "Dear CFPB, I have a secured credit card with citibank which is changed to unsecured card and I have been calling n waitting for the check release the secured amount {$2500.00} for rhat credit card. They told me to wait then today they told me someone cashed my check but their system doesnt have info as of who, where and when did it happen!!\n\nI requested a case number but they wont send me any confirmation whatsoever to report to the police.\n\nThey told me I have to wait for some form that might be sent to me via mail within 14 days to fill out. I called customer service second time today and their manager told me same thing, no info no help at all! Please help me, it's a big bank but the service is so terrible and lil customer like me can do nothing! Thank so much and look forward for your reply!",
         "Company has responded to the consumer and the CFPB and chooses not to provide a public response",
         "CITIBANK, N.A.",
         "NY",
         "11220",
         null,
         "Consent provided",
         "Web",
         "2025-06-13",
         "Closed with monetary relief",
         "Yes",
         null,
         "14047085",
         "156",
         "dear cfpb i have a secured credit card with citibank which is changed to unsecured card and i have been calling n waitting for the check release the secured amount 250000 for rhat credit card they told me to wait then today they told me someone cashed my check but their system doesnt have info as of who where and when did it happen\n\ni requested a case number but they wont send me any confirmation whatsoever to report to the police\n\nthey told me i have to wait for some form that might be sent to me via mail within 14 days to fill out i called customer service second time today and their manager told me same thing no info no help at all please help me its a big bank but the service is so terrible and lil customer like me can do nothing thank so much and look forward for your reply",
         "156",
         "['dear cfpb i have a secured credit card with citibank which is changed to unsecured card and i have been calling n waitting for the check release the secured amount 250000 for rhat credit card they told me to wait then today they told me someone cashed my', 'to wait then today they told me someone cashed my check but their system doesnt have info as of who where and when did it happen', 'i requested a case number but they wont send me any confirmation whatsoever to report to the police', 'they told me i have to wait for some form that might be sent to me via mail within 14 days to fill out i called customer service second time today and their manager told me same thing no info no help at all please help me its a big bank but the service is', 'please help me its a big bank but the service is so terrible and lil customer like me can do nothing thank so much and look forward for your reply']"
        ],
        [
         "2",
         "2025-06-12",
         "Credit card",
         "General-purpose credit card or charge card",
         "Incorrect information on your report",
         "Account information incorrect",
         "I have a Citi rewards cards. The credit balance issued to me was {$8400.00}. I recently moved, which meant my bills would be lowered, which meant I'd have LESS use for my credit cards. So in order to keep my usage in a generally good area I used each of my cards with the intention to pay them down monthly which would result in a boost to my credit score, showing creditors I can pay doen. All of my cards are in good standing. My credit is in good standing. But on the XXXX XXXX XXXX Citi abruptly slashes the balance of my card from {$8400.00} down to {$5400.00} and sends me a message that I have just about reached my credit limit. I contacted them and all they said was consult a letter they emailed on the XXXX. The slashing action was taken the day OF the letter ( XXXX ) and I had no recourse to respond nor was I even aware of this action prior to the notification about reaching my limit, which I received on or about the XXXX of XXXX. This is an egregious act that not only blindsided me but manipulates my account to make it APPEAR that I'm close to reaching the limit, when in fact I was no where near the limit. This could negatively impact my credit score through no fault of my own.",
         "Company has responded to the consumer and the CFPB and chooses not to provide a public response",
         "CITIBANK, N.A.",
         "IL",
         "60067",
         null,
         "Consent provided",
         "Web",
         "2025-06-12",
         "Closed with explanation",
         "Yes",
         null,
         "14040217",
         "233",
         "i have a citi rewards cards the credit balance issued to me was 840000 i recently moved which meant my bills would be lowered which meant id have less use for my credit cards so in order to keep my usage in a generally good area i used each of my cards with the intention to pay them down monthly which would result in a boost to my credit score showing creditors i can pay doen all of my cards are in good standing my credit is in good standing but on the xxxx xxxx xxxx citi abruptly slashes the balance of my card from 840000 down to 540000 and sends me a message that i have just about reached my credit limit i contacted them and all they said was consult a letter they emailed on the xxxx the slashing action was taken the day of the letter  xxxx  and i had no recourse to respond nor was i even aware of this action prior to the notification about reaching my limit which i received on or about the xxxx of xxxx this is an egregious act that not only blindsided me but manipulates my account to make it appear that im close to reaching the limit when in fact i was no where near the limit this could negatively impact my credit score through no fault of my own",
         "231",
         "['i have a citi rewards cards the credit balance issued to me was 840000 i recently moved which meant my bills would be lowered which meant id have less use for my credit cards so in order to keep my usage in a generally good area i used each of my cards', 'in a generally good area i used each of my cards with the intention to pay them down monthly which would result in a boost to my credit score showing creditors i can pay doen all of my cards are in good standing my credit is in good standing but on the', 'standing my credit is in good standing but on the xxxx xxxx xxxx citi abruptly slashes the balance of my card from 840000 down to 540000 and sends me a message that i have just about reached my credit limit i contacted them and all they said was consult a', 'i contacted them and all they said was consult a letter they emailed on the xxxx the slashing action was taken the day of the letter  xxxx  and i had no recourse to respond nor was i even aware of this action prior to the notification about reaching my', 'prior to the notification about reaching my limit which i received on or about the xxxx of xxxx this is an egregious act that not only blindsided me but manipulates my account to make it appear that im close to reaching the limit when in fact i was no', 'close to reaching the limit when in fact i was no where near the limit this could negatively impact my credit score through no fault of my own']"
        ],
        [
         "3",
         "2025-06-09",
         "Credit card",
         "General-purpose credit card or charge card",
         "Problem with a purchase shown on your statement",
         "Credit card company isn't resolving a dispute about a purchase on your statement",
         "b'I am writing to dispute the following charges on my CITI Credit Card Accounts where I have become a victim of identity theft when someone made a purchase without my authorization, I have not made any purchases and have no knowledge of them, I strongly believe the unauthorized transaction are the result of identity theft. An attachment fromXX/XX/XXXXshowing a new address for me is also fraudulent, I do not have or lived in Murfreesboro, TN  XX/XX/XXXX, thats when I became aware of the fraudulent charges. I then started the communications with CITI, XX/XX/XXXXabout the unauthorized fraudulent charge, I also included statements, credit score negative points due to inaccurate charges. After several attempts to clear this matter, it has become apparent that I am being ignored by CITI. I am not sure how to proceed to try and get the right help to clear this matter. I am hoping I have reached the correct CITI group to clear this matter.\\n\\nAccount Opened: XX/XX/XXXXcredit card number:XX/XX/XXXXn1.\\tCharge #1 of XX/XX/XXXX Charge amount was disputed and CITI closed account and mailed a 2nd different account.\\nNew CITI credit card replacement: XX/XX/XXXXn XX/XX/XXXXtCharge #2 interest charge and previously monthly payment total: XX/XX/XXXX dollars. Charge amount was disputed and CITI closed account and mailed a 3rd  different account.\\nNew CITI credit card replacemenXX/XX/XXXX\\tCharge #3 interest charge including previously monthly payment total XX/XX/XXXX\\nI have made three (3) phone call attempts to phone numberXX/XX/XXXX between March 4, 2025 thrXX/XX/XXXX to CITI to resolve the unauthorized charges with CITI to no avail. In return CITI has closed the original credit card with the credit card numbers as listed above but has kept transferring the unauthorized charges of the original credit card that was opened on XX/XX/XXXXo the new credit card accounts. CITI needs to remove all charges and credit my account showing a zero balance, I did not make any purchases whatsoever and I should not be responsible for any payments. CITI has turned in a late payment exceeding 30 days to the credit bureau and it has cost me a negative ofXX/XX/XXXX points. I have lost all faith in communicating with CITI by telephone to resolve this issue that is extremely frustrating. I need help to clear this matter.\\n\\nI am requesting that you immediately remove these charges from my account and credit my account for the total amount ofXX/XX/XXXXdollars. I also request that you investigate these unauthorized transaction and take steps to prevent future fraudulent charges to my account.\\n\\nI have attached copies of my credit card statement and other documents that support my claim.\\n\\nPlease send me written confirmation that you have removed the fraudulent charges and credited my account, and also that you have investigated the matter.\\n\\nThank you for your prompt attention to this matter.'",
         "Company has responded to the consumer and the CFPB and chooses not to provide a public response",
         "CITIBANK, N.A.",
         "TX",
         "78413",
         "Older American",
         "Consent provided",
         "Web",
         "2025-06-09",
         "Closed with monetary relief",
         "Yes",
         null,
         "13968411",
         "454",
         "bi am writing to dispute the following charges on my citi credit card accounts where i have become a victim of identity theft when someone made a purchase without my authorization i have not made any purchases and have no knowledge of them i strongly believe the unauthorized transaction are the result of identity theft an attachment fromxxxxxxxxshowing a new address for me is also fraudulent i do not have or lived in murfreesboro tn  xxxxxxxx thats when i became aware of the fraudulent charges i then started the communications with citi xxxxxxxxabout the unauthorized fraudulent charge i also included statements credit score negative points due to inaccurate charges after several attempts to clear this matter it has become apparent that i am being ignored by citi i am not sure how to proceed to try and get the right help to clear this matter i am hoping i have reached the correct citi group to clear this matternnaccount opened xxxxxxxxcredit card numberxxxxxxxxn1tcharge 1 of xxxxxxxx charge amount was disputed and citi closed account and mailed a 2nd different accountnnew citi credit card replacement xxxxxxxxn xxxxxxxxtcharge 2 interest charge and previously monthly payment total xxxxxxxx dollars charge amount was disputed and citi closed account and mailed a 3rd  different accountnnew citi credit card replacemenxxxxxxxxtcharge 3 interest charge including previously monthly payment total xxxxxxxxni have made three 3 phone call attempts to phone numberxxxxxxxx between march 4 2025 thrxxxxxxxx to citi to resolve the unauthorized charges with citi to no avail in return citi has closed the original credit card with the credit card numbers as listed above but has kept transferring the unauthorized charges of the original credit card that was opened on xxxxxxxxo the new credit card accounts citi needs to remove all charges and credit my account showing a zero balance i did not make any purchases whatsoever and i should not be responsible for any payments citi has turned in a late payment exceeding 30 days to the credit bureau and it has cost me a negative ofxxxxxxxx points i have lost all faith in communicating with citi by telephone to resolve this issue that is extremely frustrating i need help to clear this matternni am requesting that you immediately remove these charges from my account and credit my account for the total amount ofxxxxxxxxdollars i also request that you investigate these unauthorized transaction and take steps to prevent future fraudulent charges to my accountnni have attached copies of my credit card statement and other documents that support my claimnnplease send me written confirmation that you have removed the fraudulent charges and credited my account and also that you have investigated the matternnthank you for your prompt attention to this matter",
         "454",
         "['bi am writing to dispute the following charges on my citi credit card accounts where i have become a victim of identity theft when someone made a purchase without my authorization i have not made any purchases and have no knowledge of them i strongly', 'and have no knowledge of them i strongly believe the unauthorized transaction are the result of identity theft an attachment fromxxxxxxxxshowing a new address for me is also fraudulent i do not have or lived in murfreesboro tn  xxxxxxxx thats when i', 'lived in murfreesboro tn  xxxxxxxx thats when i became aware of the fraudulent charges i then started the communications with citi xxxxxxxxabout the unauthorized fraudulent charge i also included statements credit score negative points due to inaccurate', 'credit score negative points due to inaccurate charges after several attempts to clear this matter it has become apparent that i am being ignored by citi i am not sure how to proceed to try and get the right help to clear this matter i am hoping i have', 'help to clear this matter i am hoping i have reached the correct citi group to clear this matternnaccount opened xxxxxxxxcredit card numberxxxxxxxxn1tcharge 1 of xxxxxxxx charge amount was disputed and citi closed account and mailed a 2nd different', 'citi closed account and mailed a 2nd different accountnnew citi credit card replacement xxxxxxxxn xxxxxxxxtcharge 2 interest charge and previously monthly payment total xxxxxxxx dollars charge amount was disputed and citi closed account and mailed a 3rd', 'and citi closed account and mailed a 3rd  different accountnnew citi credit card replacemenxxxxxxxxtcharge 3 interest charge including previously monthly payment total xxxxxxxxni have made three 3 phone call attempts to phone numberxxxxxxxx between march', 'attempts to phone numberxxxxxxxx between march 4 2025 thrxxxxxxxx to citi to resolve the unauthorized charges with citi to no avail in return citi has closed the original credit card with the credit card numbers as listed above but has kept transferring', 'numbers as listed above but has kept transferring the unauthorized charges of the original credit card that was opened on xxxxxxxxo the new credit card accounts citi needs to remove all charges and credit my account showing a zero balance i did not make', 'my account showing a zero balance i did not make any purchases whatsoever and i should not be responsible for any payments citi has turned in a late payment exceeding 30 days to the credit bureau and it has cost me a negative ofxxxxxxxx points i have lost', 'cost me a negative ofxxxxxxxx points i have lost all faith in communicating with citi by telephone to resolve this issue that is extremely frustrating i need help to clear this matternni am requesting that you immediately remove these charges from my', 'that you immediately remove these charges from my account and credit my account for the total amount ofxxxxxxxxdollars i also request that you investigate these unauthorized transaction and take steps to prevent future fraudulent charges to my accountnni', 'future fraudulent charges to my accountnni have attached copies of my credit card statement and other documents that support my claimnnplease send me written confirmation that you have removed the fraudulent charges and credited my account and also that', 'charges and credited my account and also that you have investigated the matternnthank you for your prompt attention to this matter']"
        ],
        [
         "4",
         "2025-06-09",
         "Credit card",
         "General-purpose credit card or charge card",
         "Problem when making payments",
         "Problem during payment process",
         "Although the account had been deemed closed, I continued to make payments towards the dept, however, they requested that I pay XXXX as a minimal payment, which I could not afford, however, I did forward XXXX, dollars per month towards the dept. The problem here however, is that the continued XXXX dollars per month was never included towards the dept. They just very simply kept my monies without applying it towards the overall dept. Their explanation to me was that since I did not forward the latter XXXX, the XXXX dollars served as interest towards the dept. First, there was no practical reason for them to charge me an increase of XXXX, for missing one payment, and at no time had I violated any rule, regular, or policy of agreement, with this creditor. And was consistently paying over the minimal amount initially requested monthly. I want all those XXXX dollar payments accredited to my dept balance! So that this account can be paid off, in a fair and equitable way.",
         "Company believes it acted appropriately as authorized by contract or law",
         "Atlanticus Services Corporation",
         "NY",
         "11212",
         "Older American",
         "Consent provided",
         "Web",
         "2025-06-09",
         "Closed with monetary relief",
         "Yes",
         null,
         "13965746",
         "170",
         "although the account had been deemed closed i continued to make payments towards the dept however they requested that i pay xxxx as a minimal payment which i could not afford however i did forward xxxx dollars per month towards the dept the problem here however is that the continued xxxx dollars per month was never included towards the dept they just very simply kept my monies without applying it towards the overall dept their explanation to me was that since i did not forward the latter xxxx the xxxx dollars served as interest towards the dept first there was no practical reason for them to charge me an increase of xxxx for missing one payment and at no time had i violated any rule regular or policy of agreement with this creditor and was consistently paying over the minimal amount initially requested monthly i want all those xxxx dollar payments accredited to my dept balance so that this account can be paid off in a fair and equitable way",
         "170",
         "['although the account had been deemed closed i continued to make payments towards the dept however they requested that i pay xxxx as a minimal payment which i could not afford however i did forward xxxx dollars per month towards the dept the problem here', 'per month towards the dept the problem here however is that the continued xxxx dollars per month was never included towards the dept they just very simply kept my monies without applying it towards the overall dept their explanation to me was that since i', 'dept their explanation to me was that since i did not forward the latter xxxx the xxxx dollars served as interest towards the dept first there was no practical reason for them to charge me an increase of xxxx for missing one payment and at no time had i', 'xxxx for missing one payment and at no time had i violated any rule regular or policy of agreement with this creditor and was consistently paying over the minimal amount initially requested monthly i want all those xxxx dollar payments accredited to my', 'all those xxxx dollar payments accredited to my dept balance so that this account can be paid off in a fair and equitable way']"
        ]
       ],
       "shape": {
        "columns": 22,
        "rows": 5
       }
      },
      "text/html": [
       "<div>\n",
       "<style scoped>\n",
       "    .dataframe tbody tr th:only-of-type {\n",
       "        vertical-align: middle;\n",
       "    }\n",
       "\n",
       "    .dataframe tbody tr th {\n",
       "        vertical-align: top;\n",
       "    }\n",
       "\n",
       "    .dataframe thead th {\n",
       "        text-align: right;\n",
       "    }\n",
       "</style>\n",
       "<table border=\"1\" class=\"dataframe\">\n",
       "  <thead>\n",
       "    <tr style=\"text-align: right;\">\n",
       "      <th></th>\n",
       "      <th>Date received</th>\n",
       "      <th>Product</th>\n",
       "      <th>Sub-product</th>\n",
       "      <th>Issue</th>\n",
       "      <th>Sub-issue</th>\n",
       "      <th>Consumer complaint narrative</th>\n",
       "      <th>Company public response</th>\n",
       "      <th>Company</th>\n",
       "      <th>State</th>\n",
       "      <th>ZIP code</th>\n",
       "      <th>...</th>\n",
       "      <th>Submitted via</th>\n",
       "      <th>Date sent to company</th>\n",
       "      <th>Company response to consumer</th>\n",
       "      <th>Timely response?</th>\n",
       "      <th>Consumer disputed?</th>\n",
       "      <th>Complaint ID</th>\n",
       "      <th>narrative_length</th>\n",
       "      <th>cleaned_narrative</th>\n",
       "      <th>cleaned_narrative_length</th>\n",
       "      <th>narrative_chunks</th>\n",
       "    </tr>\n",
       "  </thead>\n",
       "  <tbody>\n",
       "    <tr>\n",
       "      <th>0</th>\n",
       "      <td>2025-06-13</td>\n",
       "      <td>Credit card</td>\n",
       "      <td>Store credit card</td>\n",
       "      <td>Getting a credit card</td>\n",
       "      <td>Card opened without my consent or knowledge</td>\n",
       "      <td>A XXXX XXXX card was opened under my name by a...</td>\n",
       "      <td>Company has responded to the consumer and the ...</td>\n",
       "      <td>CITIBANK, N.A.</td>\n",
       "      <td>TX</td>\n",
       "      <td>78230</td>\n",
       "      <td>...</td>\n",
       "      <td>Web</td>\n",
       "      <td>2025-06-13</td>\n",
       "      <td>Closed with non-monetary relief</td>\n",
       "      <td>Yes</td>\n",
       "      <td>NaN</td>\n",
       "      <td>14069121</td>\n",
       "      <td>91</td>\n",
       "      <td>a xxxx xxxx card was opened under my name by a...</td>\n",
       "      <td>91</td>\n",
       "      <td>[a xxxx xxxx card was opened under my name by ...</td>\n",
       "    </tr>\n",
       "    <tr>\n",
       "      <th>1</th>\n",
       "      <td>2025-06-12</td>\n",
       "      <td>Credit card</td>\n",
       "      <td>General-purpose credit card or charge card</td>\n",
       "      <td>Other features, terms, or problems</td>\n",
       "      <td>Other problem</td>\n",
       "      <td>Dear CFPB, I have a secured credit card with c...</td>\n",
       "      <td>Company has responded to the consumer and the ...</td>\n",
       "      <td>CITIBANK, N.A.</td>\n",
       "      <td>NY</td>\n",
       "      <td>11220</td>\n",
       "      <td>...</td>\n",
       "      <td>Web</td>\n",
       "      <td>2025-06-13</td>\n",
       "      <td>Closed with monetary relief</td>\n",
       "      <td>Yes</td>\n",
       "      <td>NaN</td>\n",
       "      <td>14047085</td>\n",
       "      <td>156</td>\n",
       "      <td>dear cfpb i have a secured credit card with ci...</td>\n",
       "      <td>156</td>\n",
       "      <td>[dear cfpb i have a secured credit card with c...</td>\n",
       "    </tr>\n",
       "    <tr>\n",
       "      <th>2</th>\n",
       "      <td>2025-06-12</td>\n",
       "      <td>Credit card</td>\n",
       "      <td>General-purpose credit card or charge card</td>\n",
       "      <td>Incorrect information on your report</td>\n",
       "      <td>Account information incorrect</td>\n",
       "      <td>I have a Citi rewards cards. The credit balanc...</td>\n",
       "      <td>Company has responded to the consumer and the ...</td>\n",
       "      <td>CITIBANK, N.A.</td>\n",
       "      <td>IL</td>\n",
       "      <td>60067</td>\n",
       "      <td>...</td>\n",
       "      <td>Web</td>\n",
       "      <td>2025-06-12</td>\n",
       "      <td>Closed with explanation</td>\n",
       "      <td>Yes</td>\n",
       "      <td>NaN</td>\n",
       "      <td>14040217</td>\n",
       "      <td>233</td>\n",
       "      <td>i have a citi rewards cards the credit balance...</td>\n",
       "      <td>231</td>\n",
       "      <td>[i have a citi rewards cards the credit balanc...</td>\n",
       "    </tr>\n",
       "    <tr>\n",
       "      <th>3</th>\n",
       "      <td>2025-06-09</td>\n",
       "      <td>Credit card</td>\n",
       "      <td>General-purpose credit card or charge card</td>\n",
       "      <td>Problem with a purchase shown on your statement</td>\n",
       "      <td>Credit card company isn't resolving a dispute ...</td>\n",
       "      <td>b'I am writing to dispute the following charge...</td>\n",
       "      <td>Company has responded to the consumer and the ...</td>\n",
       "      <td>CITIBANK, N.A.</td>\n",
       "      <td>TX</td>\n",
       "      <td>78413</td>\n",
       "      <td>...</td>\n",
       "      <td>Web</td>\n",
       "      <td>2025-06-09</td>\n",
       "      <td>Closed with monetary relief</td>\n",
       "      <td>Yes</td>\n",
       "      <td>NaN</td>\n",
       "      <td>13968411</td>\n",
       "      <td>454</td>\n",
       "      <td>bi am writing to dispute the following charges...</td>\n",
       "      <td>454</td>\n",
       "      <td>[bi am writing to dispute the following charge...</td>\n",
       "    </tr>\n",
       "    <tr>\n",
       "      <th>4</th>\n",
       "      <td>2025-06-09</td>\n",
       "      <td>Credit card</td>\n",
       "      <td>General-purpose credit card or charge card</td>\n",
       "      <td>Problem when making payments</td>\n",
       "      <td>Problem during payment process</td>\n",
       "      <td>Although the account had been deemed closed, I...</td>\n",
       "      <td>Company believes it acted appropriately as aut...</td>\n",
       "      <td>Atlanticus Services Corporation</td>\n",
       "      <td>NY</td>\n",
       "      <td>11212</td>\n",
       "      <td>...</td>\n",
       "      <td>Web</td>\n",
       "      <td>2025-06-09</td>\n",
       "      <td>Closed with monetary relief</td>\n",
       "      <td>Yes</td>\n",
       "      <td>NaN</td>\n",
       "      <td>13965746</td>\n",
       "      <td>170</td>\n",
       "      <td>although the account had been deemed closed i ...</td>\n",
       "      <td>170</td>\n",
       "      <td>[although the account had been deemed closed i...</td>\n",
       "    </tr>\n",
       "  </tbody>\n",
       "</table>\n",
       "<p>5 rows × 22 columns</p>\n",
       "</div>"
      ],
      "text/plain": [
       "  Date received      Product                                 Sub-product  \\\n",
       "0    2025-06-13  Credit card                           Store credit card   \n",
       "1    2025-06-12  Credit card  General-purpose credit card or charge card   \n",
       "2    2025-06-12  Credit card  General-purpose credit card or charge card   \n",
       "3    2025-06-09  Credit card  General-purpose credit card or charge card   \n",
       "4    2025-06-09  Credit card  General-purpose credit card or charge card   \n",
       "\n",
       "                                             Issue  \\\n",
       "0                            Getting a credit card   \n",
       "1               Other features, terms, or problems   \n",
       "2             Incorrect information on your report   \n",
       "3  Problem with a purchase shown on your statement   \n",
       "4                     Problem when making payments   \n",
       "\n",
       "                                           Sub-issue  \\\n",
       "0        Card opened without my consent or knowledge   \n",
       "1                                      Other problem   \n",
       "2                      Account information incorrect   \n",
       "3  Credit card company isn't resolving a dispute ...   \n",
       "4                     Problem during payment process   \n",
       "\n",
       "                        Consumer complaint narrative  \\\n",
       "0  A XXXX XXXX card was opened under my name by a...   \n",
       "1  Dear CFPB, I have a secured credit card with c...   \n",
       "2  I have a Citi rewards cards. The credit balanc...   \n",
       "3  b'I am writing to dispute the following charge...   \n",
       "4  Although the account had been deemed closed, I...   \n",
       "\n",
       "                             Company public response  \\\n",
       "0  Company has responded to the consumer and the ...   \n",
       "1  Company has responded to the consumer and the ...   \n",
       "2  Company has responded to the consumer and the ...   \n",
       "3  Company has responded to the consumer and the ...   \n",
       "4  Company believes it acted appropriately as aut...   \n",
       "\n",
       "                           Company State ZIP code  ... Submitted via  \\\n",
       "0                   CITIBANK, N.A.    TX    78230  ...           Web   \n",
       "1                   CITIBANK, N.A.    NY    11220  ...           Web   \n",
       "2                   CITIBANK, N.A.    IL    60067  ...           Web   \n",
       "3                   CITIBANK, N.A.    TX    78413  ...           Web   \n",
       "4  Atlanticus Services Corporation    NY    11212  ...           Web   \n",
       "\n",
       "  Date sent to company     Company response to consumer Timely response?  \\\n",
       "0           2025-06-13  Closed with non-monetary relief              Yes   \n",
       "1           2025-06-13      Closed with monetary relief              Yes   \n",
       "2           2025-06-12          Closed with explanation              Yes   \n",
       "3           2025-06-09      Closed with monetary relief              Yes   \n",
       "4           2025-06-09      Closed with monetary relief              Yes   \n",
       "\n",
       "  Consumer disputed? Complaint ID narrative_length  \\\n",
       "0                NaN     14069121               91   \n",
       "1                NaN     14047085              156   \n",
       "2                NaN     14040217              233   \n",
       "3                NaN     13968411              454   \n",
       "4                NaN     13965746              170   \n",
       "\n",
       "                                   cleaned_narrative  \\\n",
       "0  a xxxx xxxx card was opened under my name by a...   \n",
       "1  dear cfpb i have a secured credit card with ci...   \n",
       "2  i have a citi rewards cards the credit balance...   \n",
       "3  bi am writing to dispute the following charges...   \n",
       "4  although the account had been deemed closed i ...   \n",
       "\n",
       "   cleaned_narrative_length                                   narrative_chunks  \n",
       "0                        91  [a xxxx xxxx card was opened under my name by ...  \n",
       "1                       156  [dear cfpb i have a secured credit card with c...  \n",
       "2                       231  [i have a citi rewards cards the credit balanc...  \n",
       "3                       454  [bi am writing to dispute the following charge...  \n",
       "4                       170  [although the account had been deemed closed i...  \n",
       "\n",
       "[5 rows x 22 columns]"
      ]
     },
     "execution_count": 10,
     "metadata": {},
     "output_type": "execute_result"
    }
   ],
   "source": [
    "df.head()"
   ]
  },
  {
   "cell_type": "markdown",
   "id": "e31da405",
   "metadata": {},
   "source": [
    "## Text Chunking"
   ]
  },
  {
   "cell_type": "code",
   "execution_count": 4,
   "id": "6a3a8ad9",
   "metadata": {},
   "outputs": [],
   "source": [
    "df['cleaned_narrative_length'] = df['cleaned_narrative'].fillna('').apply(lambda x: len(str(x).split()))"
   ]
  },
  {
   "cell_type": "code",
   "execution_count": 5,
   "id": "42e4b658",
   "metadata": {},
   "outputs": [
    {
     "name": "stdout",
     "output_type": "stream",
     "text": [
      "count    272371.000000\n",
      "mean        195.221356\n",
      "std         214.504954\n",
      "min           1.000000\n",
      "25%          87.000000\n",
      "50%         126.000000\n",
      "75%         242.000000\n",
      "max        6469.000000\n",
      "Name: cleaned_narrative_length, dtype: float64\n",
      "Minimum narrative length: 1\n",
      "Maximum narrative length: 6469\n"
     ]
    }
   ],
   "source": [
    "print(df['cleaned_narrative_length'].describe())\n",
    "\n",
    "min_narrative_length = df['cleaned_narrative_length'].min()\n",
    "max_narrative_length = df['cleaned_narrative_length'].max()\n",
    "\n",
    "print(f\"Minimum narrative length: {min_narrative_length}\")\n",
    "print(f\"Maximum narrative length: {max_narrative_length}\")"
   ]
  },
  {
   "cell_type": "code",
   "execution_count": 6,
   "id": "5bce6714",
   "metadata": {},
   "outputs": [
    {
     "name": "stdout",
     "output_type": "stream",
     "text": [
      "chunk_size=256, chunk_overlap=0 => 2 chunks\n",
      "chunk_size=256, chunk_overlap=50 => 3 chunks\n",
      "chunk_size=256, chunk_overlap=100 => 3 chunks\n",
      "chunk_size=512, chunk_overlap=0 => 1 chunks\n",
      "chunk_size=512, chunk_overlap=50 => 1 chunks\n",
      "chunk_size=512, chunk_overlap=100 => 1 chunks\n",
      "chunk_size=1024, chunk_overlap=0 => 1 chunks\n",
      "chunk_size=1024, chunk_overlap=50 => 1 chunks\n",
      "chunk_size=1024, chunk_overlap=100 => 1 chunks\n"
     ]
    },
    {
     "data": {
      "text/plain": [
       "{(256, 0): 2,\n",
       " (256, 50): 3,\n",
       " (256, 100): 3,\n",
       " (512, 0): 1,\n",
       " (512, 50): 1,\n",
       " (512, 100): 1,\n",
       " (1024, 0): 1,\n",
       " (1024, 50): 1,\n",
       " (1024, 100): 1}"
      ]
     },
     "execution_count": 6,
     "metadata": {},
     "output_type": "execute_result"
    }
   ],
   "source": [
    "# Example function to experiment with chunk_size and chunk_overlap\n",
    "def experiment_text_splitter(text, chunk_sizes, chunk_overlaps):\n",
    "    results = {}\n",
    "    for size in chunk_sizes:\n",
    "        for overlap in chunk_overlaps:\n",
    "            splitter = RecursiveCharacterTextSplitter(chunk_size=size, chunk_overlap=overlap)\n",
    "            chunks = splitter.split_text(text)\n",
    "            results[(size, overlap)] = len(chunks)\n",
    "            print(f\"chunk_size={size}, chunk_overlap={overlap} => {len(chunks)} chunks\")\n",
    "    return results\n",
    "\n",
    "# Use a sample narrative for testing\n",
    "sample_narrative = df['cleaned_narrative'].dropna().iloc[0]\n",
    "chunk_sizes = [256, 512, 1024]\n",
    "chunk_overlaps = [0, 50, 100]\n",
    "experiment_text_splitter(sample_narrative, chunk_sizes, chunk_overlaps)"
   ]
  },
  {
   "cell_type": "markdown",
   "id": "562bc91d",
   "metadata": {},
   "source": [
    "- 75% are shorter than 256 → perfect match for chunk_size=256\n",
    "- Only ~25% will be split into multiple chunks — where overlap helps\n",
    "- Therefore the best balance is chunk_size=256, chunk_overlap=50 => 3 chunks"
   ]
  },
  {
   "cell_type": "code",
   "execution_count": 7,
   "id": "c2f6cc43",
   "metadata": {},
   "outputs": [
    {
     "data": {
      "application/vnd.microsoft.datawrangler.viewer.v0+json": {
       "columns": [
        {
         "name": "index",
         "rawType": "int64",
         "type": "integer"
        },
        {
         "name": "cleaned_narrative",
         "rawType": "object",
         "type": "string"
        },
        {
         "name": "narrative_chunks",
         "rawType": "object",
         "type": "unknown"
        }
       ],
       "ref": "f06e907c-580d-4075-96ca-ba2014310eb5",
       "rows": [
        [
         "0",
         "a xxxx xxxx card was opened under my name by a fraudster i received a notice from xxxx  that an account was just opened under my name i reached out to xxxx xxxx to state that this activity was unauthorized and not me xxxx xxxx confirmed this was fraudulent and immediately closed the card however they have failed to remove this from the three credit agencies and this fraud is now impacting my credit score based on a hard credit pull done by xxxx xxxx that was done by a fraudster",
         "['a xxxx xxxx card was opened under my name by a fraudster i received a notice from xxxx  that an account was just opened under my name i reached out to xxxx xxxx to state that this activity was unauthorized and not me xxxx xxxx confirmed this was fraudulent', 'not me xxxx xxxx confirmed this was fraudulent and immediately closed the card however they have failed to remove this from the three credit agencies and this fraud is now impacting my credit score based on a hard credit pull done by xxxx xxxx that was', 'on a hard credit pull done by xxxx xxxx that was done by a fraudster']"
        ],
        [
         "1",
         "dear cfpb i have a secured credit card with citibank which is changed to unsecured card and i have been calling n waitting for the check release the secured amount 250000 for rhat credit card they told me to wait then today they told me someone cashed my check but their system doesnt have info as of who where and when did it happen\n\ni requested a case number but they wont send me any confirmation whatsoever to report to the police\n\nthey told me i have to wait for some form that might be sent to me via mail within 14 days to fill out i called customer service second time today and their manager told me same thing no info no help at all please help me its a big bank but the service is so terrible and lil customer like me can do nothing thank so much and look forward for your reply",
         "['dear cfpb i have a secured credit card with citibank which is changed to unsecured card and i have been calling n waitting for the check release the secured amount 250000 for rhat credit card they told me to wait then today they told me someone cashed my', 'to wait then today they told me someone cashed my check but their system doesnt have info as of who where and when did it happen', 'i requested a case number but they wont send me any confirmation whatsoever to report to the police', 'they told me i have to wait for some form that might be sent to me via mail within 14 days to fill out i called customer service second time today and their manager told me same thing no info no help at all please help me its a big bank but the service is', 'please help me its a big bank but the service is so terrible and lil customer like me can do nothing thank so much and look forward for your reply']"
        ],
        [
         "2",
         "i have a citi rewards cards the credit balance issued to me was 840000 i recently moved which meant my bills would be lowered which meant id have less use for my credit cards so in order to keep my usage in a generally good area i used each of my cards with the intention to pay them down monthly which would result in a boost to my credit score showing creditors i can pay doen all of my cards are in good standing my credit is in good standing but on the xxxx xxxx xxxx citi abruptly slashes the balance of my card from 840000 down to 540000 and sends me a message that i have just about reached my credit limit i contacted them and all they said was consult a letter they emailed on the xxxx the slashing action was taken the day of the letter  xxxx  and i had no recourse to respond nor was i even aware of this action prior to the notification about reaching my limit which i received on or about the xxxx of xxxx this is an egregious act that not only blindsided me but manipulates my account to make it appear that im close to reaching the limit when in fact i was no where near the limit this could negatively impact my credit score through no fault of my own",
         "['i have a citi rewards cards the credit balance issued to me was 840000 i recently moved which meant my bills would be lowered which meant id have less use for my credit cards so in order to keep my usage in a generally good area i used each of my cards', 'in a generally good area i used each of my cards with the intention to pay them down monthly which would result in a boost to my credit score showing creditors i can pay doen all of my cards are in good standing my credit is in good standing but on the', 'standing my credit is in good standing but on the xxxx xxxx xxxx citi abruptly slashes the balance of my card from 840000 down to 540000 and sends me a message that i have just about reached my credit limit i contacted them and all they said was consult a', 'i contacted them and all they said was consult a letter they emailed on the xxxx the slashing action was taken the day of the letter  xxxx  and i had no recourse to respond nor was i even aware of this action prior to the notification about reaching my', 'prior to the notification about reaching my limit which i received on or about the xxxx of xxxx this is an egregious act that not only blindsided me but manipulates my account to make it appear that im close to reaching the limit when in fact i was no', 'close to reaching the limit when in fact i was no where near the limit this could negatively impact my credit score through no fault of my own']"
        ],
        [
         "3",
         "bi am writing to dispute the following charges on my citi credit card accounts where i have become a victim of identity theft when someone made a purchase without my authorization i have not made any purchases and have no knowledge of them i strongly believe the unauthorized transaction are the result of identity theft an attachment fromxxxxxxxxshowing a new address for me is also fraudulent i do not have or lived in murfreesboro tn  xxxxxxxx thats when i became aware of the fraudulent charges i then started the communications with citi xxxxxxxxabout the unauthorized fraudulent charge i also included statements credit score negative points due to inaccurate charges after several attempts to clear this matter it has become apparent that i am being ignored by citi i am not sure how to proceed to try and get the right help to clear this matter i am hoping i have reached the correct citi group to clear this matternnaccount opened xxxxxxxxcredit card numberxxxxxxxxn1tcharge 1 of xxxxxxxx charge amount was disputed and citi closed account and mailed a 2nd different accountnnew citi credit card replacement xxxxxxxxn xxxxxxxxtcharge 2 interest charge and previously monthly payment total xxxxxxxx dollars charge amount was disputed and citi closed account and mailed a 3rd  different accountnnew citi credit card replacemenxxxxxxxxtcharge 3 interest charge including previously monthly payment total xxxxxxxxni have made three 3 phone call attempts to phone numberxxxxxxxx between march 4 2025 thrxxxxxxxx to citi to resolve the unauthorized charges with citi to no avail in return citi has closed the original credit card with the credit card numbers as listed above but has kept transferring the unauthorized charges of the original credit card that was opened on xxxxxxxxo the new credit card accounts citi needs to remove all charges and credit my account showing a zero balance i did not make any purchases whatsoever and i should not be responsible for any payments citi has turned in a late payment exceeding 30 days to the credit bureau and it has cost me a negative ofxxxxxxxx points i have lost all faith in communicating with citi by telephone to resolve this issue that is extremely frustrating i need help to clear this matternni am requesting that you immediately remove these charges from my account and credit my account for the total amount ofxxxxxxxxdollars i also request that you investigate these unauthorized transaction and take steps to prevent future fraudulent charges to my accountnni have attached copies of my credit card statement and other documents that support my claimnnplease send me written confirmation that you have removed the fraudulent charges and credited my account and also that you have investigated the matternnthank you for your prompt attention to this matter",
         "['bi am writing to dispute the following charges on my citi credit card accounts where i have become a victim of identity theft when someone made a purchase without my authorization i have not made any purchases and have no knowledge of them i strongly', 'and have no knowledge of them i strongly believe the unauthorized transaction are the result of identity theft an attachment fromxxxxxxxxshowing a new address for me is also fraudulent i do not have or lived in murfreesboro tn  xxxxxxxx thats when i', 'lived in murfreesboro tn  xxxxxxxx thats when i became aware of the fraudulent charges i then started the communications with citi xxxxxxxxabout the unauthorized fraudulent charge i also included statements credit score negative points due to inaccurate', 'credit score negative points due to inaccurate charges after several attempts to clear this matter it has become apparent that i am being ignored by citi i am not sure how to proceed to try and get the right help to clear this matter i am hoping i have', 'help to clear this matter i am hoping i have reached the correct citi group to clear this matternnaccount opened xxxxxxxxcredit card numberxxxxxxxxn1tcharge 1 of xxxxxxxx charge amount was disputed and citi closed account and mailed a 2nd different', 'citi closed account and mailed a 2nd different accountnnew citi credit card replacement xxxxxxxxn xxxxxxxxtcharge 2 interest charge and previously monthly payment total xxxxxxxx dollars charge amount was disputed and citi closed account and mailed a 3rd', 'and citi closed account and mailed a 3rd  different accountnnew citi credit card replacemenxxxxxxxxtcharge 3 interest charge including previously monthly payment total xxxxxxxxni have made three 3 phone call attempts to phone numberxxxxxxxx between march', 'attempts to phone numberxxxxxxxx between march 4 2025 thrxxxxxxxx to citi to resolve the unauthorized charges with citi to no avail in return citi has closed the original credit card with the credit card numbers as listed above but has kept transferring', 'numbers as listed above but has kept transferring the unauthorized charges of the original credit card that was opened on xxxxxxxxo the new credit card accounts citi needs to remove all charges and credit my account showing a zero balance i did not make', 'my account showing a zero balance i did not make any purchases whatsoever and i should not be responsible for any payments citi has turned in a late payment exceeding 30 days to the credit bureau and it has cost me a negative ofxxxxxxxx points i have lost', 'cost me a negative ofxxxxxxxx points i have lost all faith in communicating with citi by telephone to resolve this issue that is extremely frustrating i need help to clear this matternni am requesting that you immediately remove these charges from my', 'that you immediately remove these charges from my account and credit my account for the total amount ofxxxxxxxxdollars i also request that you investigate these unauthorized transaction and take steps to prevent future fraudulent charges to my accountnni', 'future fraudulent charges to my accountnni have attached copies of my credit card statement and other documents that support my claimnnplease send me written confirmation that you have removed the fraudulent charges and credited my account and also that', 'charges and credited my account and also that you have investigated the matternnthank you for your prompt attention to this matter']"
        ],
        [
         "4",
         "although the account had been deemed closed i continued to make payments towards the dept however they requested that i pay xxxx as a minimal payment which i could not afford however i did forward xxxx dollars per month towards the dept the problem here however is that the continued xxxx dollars per month was never included towards the dept they just very simply kept my monies without applying it towards the overall dept their explanation to me was that since i did not forward the latter xxxx the xxxx dollars served as interest towards the dept first there was no practical reason for them to charge me an increase of xxxx for missing one payment and at no time had i violated any rule regular or policy of agreement with this creditor and was consistently paying over the minimal amount initially requested monthly i want all those xxxx dollar payments accredited to my dept balance so that this account can be paid off in a fair and equitable way",
         "['although the account had been deemed closed i continued to make payments towards the dept however they requested that i pay xxxx as a minimal payment which i could not afford however i did forward xxxx dollars per month towards the dept the problem here', 'per month towards the dept the problem here however is that the continued xxxx dollars per month was never included towards the dept they just very simply kept my monies without applying it towards the overall dept their explanation to me was that since i', 'dept their explanation to me was that since i did not forward the latter xxxx the xxxx dollars served as interest towards the dept first there was no practical reason for them to charge me an increase of xxxx for missing one payment and at no time had i', 'xxxx for missing one payment and at no time had i violated any rule regular or policy of agreement with this creditor and was consistently paying over the minimal amount initially requested monthly i want all those xxxx dollar payments accredited to my', 'all those xxxx dollar payments accredited to my dept balance so that this account can be paid off in a fair and equitable way']"
        ]
       ],
       "shape": {
        "columns": 2,
        "rows": 5
       }
      },
      "text/html": [
       "<div>\n",
       "<style scoped>\n",
       "    .dataframe tbody tr th:only-of-type {\n",
       "        vertical-align: middle;\n",
       "    }\n",
       "\n",
       "    .dataframe tbody tr th {\n",
       "        vertical-align: top;\n",
       "    }\n",
       "\n",
       "    .dataframe thead th {\n",
       "        text-align: right;\n",
       "    }\n",
       "</style>\n",
       "<table border=\"1\" class=\"dataframe\">\n",
       "  <thead>\n",
       "    <tr style=\"text-align: right;\">\n",
       "      <th></th>\n",
       "      <th>cleaned_narrative</th>\n",
       "      <th>narrative_chunks</th>\n",
       "    </tr>\n",
       "  </thead>\n",
       "  <tbody>\n",
       "    <tr>\n",
       "      <th>0</th>\n",
       "      <td>a xxxx xxxx card was opened under my name by a...</td>\n",
       "      <td>[a xxxx xxxx card was opened under my name by ...</td>\n",
       "    </tr>\n",
       "    <tr>\n",
       "      <th>1</th>\n",
       "      <td>dear cfpb i have a secured credit card with ci...</td>\n",
       "      <td>[dear cfpb i have a secured credit card with c...</td>\n",
       "    </tr>\n",
       "    <tr>\n",
       "      <th>2</th>\n",
       "      <td>i have a citi rewards cards the credit balance...</td>\n",
       "      <td>[i have a citi rewards cards the credit balanc...</td>\n",
       "    </tr>\n",
       "    <tr>\n",
       "      <th>3</th>\n",
       "      <td>bi am writing to dispute the following charges...</td>\n",
       "      <td>[bi am writing to dispute the following charge...</td>\n",
       "    </tr>\n",
       "    <tr>\n",
       "      <th>4</th>\n",
       "      <td>although the account had been deemed closed i ...</td>\n",
       "      <td>[although the account had been deemed closed i...</td>\n",
       "    </tr>\n",
       "  </tbody>\n",
       "</table>\n",
       "</div>"
      ],
      "text/plain": [
       "                                   cleaned_narrative  \\\n",
       "0  a xxxx xxxx card was opened under my name by a...   \n",
       "1  dear cfpb i have a secured credit card with ci...   \n",
       "2  i have a citi rewards cards the credit balance...   \n",
       "3  bi am writing to dispute the following charges...   \n",
       "4  although the account had been deemed closed i ...   \n",
       "\n",
       "                                    narrative_chunks  \n",
       "0  [a xxxx xxxx card was opened under my name by ...  \n",
       "1  [dear cfpb i have a secured credit card with c...  \n",
       "2  [i have a citi rewards cards the credit balanc...  \n",
       "3  [bi am writing to dispute the following charge...  \n",
       "4  [although the account had been deemed closed i...  "
      ]
     },
     "execution_count": 7,
     "metadata": {},
     "output_type": "execute_result"
    }
   ],
   "source": [
    "# Final splitter for production use\n",
    "final_splitter = RecursiveCharacterTextSplitter(chunk_size=256, chunk_overlap=50)\n",
    "df['narrative_chunks'] = df['cleaned_narrative'].fillna('').apply(lambda x: final_splitter.split_text(x))\n",
    "df[['cleaned_narrative', 'narrative_chunks']].head()"
   ]
  },
  {
   "cell_type": "markdown",
   "id": "cbbbc6ab",
   "metadata": {},
   "source": [
    "## Save Chunked Data"
   ]
  },
  {
   "cell_type": "code",
   "execution_count": 9,
   "id": "befa8c77",
   "metadata": {},
   "outputs": [
    {
     "name": "stdout",
     "output_type": "stream",
     "text": [
      "Chunked dataset saved to data/chunked_complaints.csv\n"
     ]
    }
   ],
   "source": [
    "# Save the DataFrame to a CSV file\n",
    "df.to_csv('../data/chunked_complaints.csv', index=False)\n",
    "\n",
    "print(\"Chunked dataset saved to data/chunked_complaints.csv\")"
   ]
  }
 ],
 "metadata": {
  "kernelspec": {
   "display_name": ".venv",
   "language": "python",
   "name": "python3"
  },
  "language_info": {
   "codemirror_mode": {
    "name": "ipython",
    "version": 3
   },
   "file_extension": ".py",
   "mimetype": "text/x-python",
   "name": "python",
   "nbconvert_exporter": "python",
   "pygments_lexer": "ipython3",
   "version": "3.12.3"
  }
 },
 "nbformat": 4,
 "nbformat_minor": 5
}
