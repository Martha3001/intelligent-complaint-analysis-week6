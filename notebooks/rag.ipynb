{
 "cells": [
  {
   "cell_type": "markdown",
   "id": "586265d2",
   "metadata": {},
   "source": [
    "# Text Chunking, Embedding, and Vector Store Indexing"
   ]
  },
  {
   "cell_type": "markdown",
   "id": "99ef985e",
   "metadata": {},
   "source": [
    "## Import Libaries"
   ]
  },
  {
   "cell_type": "code",
   "execution_count": 1,
   "id": "aaa689bd",
   "metadata": {},
   "outputs": [
    {
     "name": "stderr",
     "output_type": "stream",
     "text": [
      "e:\\KAIM\\week6\\intelligent-complaint-analysis-week6\\.venv\\Lib\\site-packages\\tqdm\\auto.py:21: TqdmWarning: IProgress not found. Please update jupyter and ipywidgets. See https://ipywidgets.readthedocs.io/en/stable/user_install.html\n",
      "  from .autonotebook import tqdm as notebook_tqdm\n"
     ]
    }
   ],
   "source": [
    "import pandas as pd\n",
    "import numpy as np\n",
    "import os\n",
    "import sys\n",
    "module_path = os.path.abspath(os.path.join('..'))\n",
    "if module_path not in sys.path:\n",
    "    sys.path.append(module_path)\n",
    "from src.rag import (retrieve_similar_complaints, load_faiss_index, load_metadata, load_embedding_model, \n",
    "                    initialize_faiss_index, save_faiss_index, embed_chunks, prepare_chunks_and_metadata)\n",
    "from sentence_transformers import SentenceTransformer"
   ]
  },
  {
   "cell_type": "markdown",
   "id": "8912c620",
   "metadata": {},
   "source": [
    "## Load Chunked data"
   ]
  },
  {
   "cell_type": "code",
   "execution_count": 2,
   "id": "910f5db8",
   "metadata": {},
   "outputs": [],
   "source": [
    "file_path = '../data/chunked_complaints.csv'\n",
    "df = pd.read_csv(file_path)"
   ]
  },
  {
   "cell_type": "code",
   "execution_count": 3,
   "id": "50a9a370",
   "metadata": {},
   "outputs": [
    {
     "data": {
      "application/vnd.microsoft.datawrangler.viewer.v0+json": {
       "columns": [
        {
         "name": "index",
         "rawType": "int64",
         "type": "integer"
        },
        {
         "name": "Date received",
         "rawType": "object",
         "type": "string"
        },
        {
         "name": "Product",
         "rawType": "object",
         "type": "string"
        },
        {
         "name": "Sub-product",
         "rawType": "object",
         "type": "string"
        },
        {
         "name": "Issue",
         "rawType": "object",
         "type": "string"
        },
        {
         "name": "Sub-issue",
         "rawType": "object",
         "type": "string"
        },
        {
         "name": "Consumer complaint narrative",
         "rawType": "object",
         "type": "string"
        },
        {
         "name": "Company public response",
         "rawType": "object",
         "type": "string"
        },
        {
         "name": "Company",
         "rawType": "object",
         "type": "string"
        },
        {
         "name": "State",
         "rawType": "object",
         "type": "string"
        },
        {
         "name": "ZIP code",
         "rawType": "object",
         "type": "string"
        },
        {
         "name": "Tags",
         "rawType": "object",
         "type": "unknown"
        },
        {
         "name": "Consumer consent provided?",
         "rawType": "object",
         "type": "string"
        },
        {
         "name": "Submitted via",
         "rawType": "object",
         "type": "string"
        },
        {
         "name": "Date sent to company",
         "rawType": "object",
         "type": "string"
        },
        {
         "name": "Company response to consumer",
         "rawType": "object",
         "type": "string"
        },
        {
         "name": "Timely response?",
         "rawType": "object",
         "type": "string"
        },
        {
         "name": "Consumer disputed?",
         "rawType": "object",
         "type": "unknown"
        },
        {
         "name": "Complaint ID",
         "rawType": "int64",
         "type": "integer"
        },
        {
         "name": "narrative_length",
         "rawType": "int64",
         "type": "integer"
        },
        {
         "name": "cleaned_narrative",
         "rawType": "object",
         "type": "string"
        },
        {
         "name": "cleaned_narrative_length",
         "rawType": "int64",
         "type": "integer"
        },
        {
         "name": "narrative_chunks",
         "rawType": "object",
         "type": "string"
        }
       ],
       "ref": "d062e8f2-3a00-42c5-b6fb-5ab0f052f075",
       "rows": [
        [
         "0",
         "2025-06-13",
         "Credit card",
         "Store credit card",
         "Getting a credit card",
         "Card opened without my consent or knowledge",
         "A XXXX XXXX card was opened under my name by a fraudster. I received a notice from XXXX  that an account was just opened under my name. I reached out to XXXX XXXX to state that this activity was unauthorized and not me. XXXX XXXX confirmed this was fraudulent and immediately closed the card. However, they have failed to remove this from the three credit agencies and this fraud is now impacting my credit score based on a hard credit pull done by XXXX XXXX that was done by a fraudster.",
         "Company has responded to the consumer and the CFPB and chooses not to provide a public response",
         "CITIBANK, N.A.",
         "TX",
         "78230",
         "Servicemember",
         "Consent provided",
         "Web",
         "2025-06-13",
         "Closed with non-monetary relief",
         "Yes",
         null,
         "14069121",
         "91",
         "a xxxx xxxx card was opened under my name by a fraudster i received a notice from xxxx  that an account was just opened under my name i reached out to xxxx xxxx to state that this activity was unauthorized and not me xxxx xxxx confirmed this was fraudulent and immediately closed the card however they have failed to remove this from the three credit agencies and this fraud is now impacting my credit score based on a hard credit pull done by xxxx xxxx that was done by a fraudster",
         "91",
         "['a xxxx xxxx card was opened under my name by a fraudster i received a notice from xxxx  that an account was just opened under my name i reached out to xxxx xxxx to state that this activity was unauthorized and not me xxxx xxxx confirmed this was fraudulent', 'not me xxxx xxxx confirmed this was fraudulent and immediately closed the card however they have failed to remove this from the three credit agencies and this fraud is now impacting my credit score based on a hard credit pull done by xxxx xxxx that was', 'on a hard credit pull done by xxxx xxxx that was done by a fraudster']"
        ],
        [
         "1",
         "2025-06-12",
         "Credit card",
         "General-purpose credit card or charge card",
         "Other features, terms, or problems",
         "Other problem",
         "Dear CFPB, I have a secured credit card with citibank which is changed to unsecured card and I have been calling n waitting for the check release the secured amount {$2500.00} for rhat credit card. They told me to wait then today they told me someone cashed my check but their system doesnt have info as of who, where and when did it happen!!\n\nI requested a case number but they wont send me any confirmation whatsoever to report to the police.\n\nThey told me I have to wait for some form that might be sent to me via mail within 14 days to fill out. I called customer service second time today and their manager told me same thing, no info no help at all! Please help me, it's a big bank but the service is so terrible and lil customer like me can do nothing! Thank so much and look forward for your reply!",
         "Company has responded to the consumer and the CFPB and chooses not to provide a public response",
         "CITIBANK, N.A.",
         "NY",
         "11220",
         null,
         "Consent provided",
         "Web",
         "2025-06-13",
         "Closed with monetary relief",
         "Yes",
         null,
         "14047085",
         "156",
         "dear cfpb i have a secured credit card with citibank which is changed to unsecured card and i have been calling n waitting for the check release the secured amount 250000 for rhat credit card they told me to wait then today they told me someone cashed my check but their system doesnt have info as of who where and when did it happen\n\ni requested a case number but they wont send me any confirmation whatsoever to report to the police\n\nthey told me i have to wait for some form that might be sent to me via mail within 14 days to fill out i called customer service second time today and their manager told me same thing no info no help at all please help me its a big bank but the service is so terrible and lil customer like me can do nothing thank so much and look forward for your reply",
         "156",
         "['dear cfpb i have a secured credit card with citibank which is changed to unsecured card and i have been calling n waitting for the check release the secured amount 250000 for rhat credit card they told me to wait then today they told me someone cashed my', 'to wait then today they told me someone cashed my check but their system doesnt have info as of who where and when did it happen', 'i requested a case number but they wont send me any confirmation whatsoever to report to the police', 'they told me i have to wait for some form that might be sent to me via mail within 14 days to fill out i called customer service second time today and their manager told me same thing no info no help at all please help me its a big bank but the service is', 'please help me its a big bank but the service is so terrible and lil customer like me can do nothing thank so much and look forward for your reply']"
        ],
        [
         "2",
         "2025-06-12",
         "Credit card",
         "General-purpose credit card or charge card",
         "Incorrect information on your report",
         "Account information incorrect",
         "I have a Citi rewards cards. The credit balance issued to me was {$8400.00}. I recently moved, which meant my bills would be lowered, which meant I'd have LESS use for my credit cards. So in order to keep my usage in a generally good area I used each of my cards with the intention to pay them down monthly which would result in a boost to my credit score, showing creditors I can pay doen. All of my cards are in good standing. My credit is in good standing. But on the XXXX XXXX XXXX Citi abruptly slashes the balance of my card from {$8400.00} down to {$5400.00} and sends me a message that I have just about reached my credit limit. I contacted them and all they said was consult a letter they emailed on the XXXX. The slashing action was taken the day OF the letter ( XXXX ) and I had no recourse to respond nor was I even aware of this action prior to the notification about reaching my limit, which I received on or about the XXXX of XXXX. This is an egregious act that not only blindsided me but manipulates my account to make it APPEAR that I'm close to reaching the limit, when in fact I was no where near the limit. This could negatively impact my credit score through no fault of my own.",
         "Company has responded to the consumer and the CFPB and chooses not to provide a public response",
         "CITIBANK, N.A.",
         "IL",
         "60067",
         null,
         "Consent provided",
         "Web",
         "2025-06-12",
         "Closed with explanation",
         "Yes",
         null,
         "14040217",
         "233",
         "i have a citi rewards cards the credit balance issued to me was 840000 i recently moved which meant my bills would be lowered which meant id have less use for my credit cards so in order to keep my usage in a generally good area i used each of my cards with the intention to pay them down monthly which would result in a boost to my credit score showing creditors i can pay doen all of my cards are in good standing my credit is in good standing but on the xxxx xxxx xxxx citi abruptly slashes the balance of my card from 840000 down to 540000 and sends me a message that i have just about reached my credit limit i contacted them and all they said was consult a letter they emailed on the xxxx the slashing action was taken the day of the letter  xxxx  and i had no recourse to respond nor was i even aware of this action prior to the notification about reaching my limit which i received on or about the xxxx of xxxx this is an egregious act that not only blindsided me but manipulates my account to make it appear that im close to reaching the limit when in fact i was no where near the limit this could negatively impact my credit score through no fault of my own",
         "231",
         "['i have a citi rewards cards the credit balance issued to me was 840000 i recently moved which meant my bills would be lowered which meant id have less use for my credit cards so in order to keep my usage in a generally good area i used each of my cards', 'in a generally good area i used each of my cards with the intention to pay them down monthly which would result in a boost to my credit score showing creditors i can pay doen all of my cards are in good standing my credit is in good standing but on the', 'standing my credit is in good standing but on the xxxx xxxx xxxx citi abruptly slashes the balance of my card from 840000 down to 540000 and sends me a message that i have just about reached my credit limit i contacted them and all they said was consult a', 'i contacted them and all they said was consult a letter they emailed on the xxxx the slashing action was taken the day of the letter  xxxx  and i had no recourse to respond nor was i even aware of this action prior to the notification about reaching my', 'prior to the notification about reaching my limit which i received on or about the xxxx of xxxx this is an egregious act that not only blindsided me but manipulates my account to make it appear that im close to reaching the limit when in fact i was no', 'close to reaching the limit when in fact i was no where near the limit this could negatively impact my credit score through no fault of my own']"
        ],
        [
         "3",
         "2025-06-09",
         "Credit card",
         "General-purpose credit card or charge card",
         "Problem with a purchase shown on your statement",
         "Credit card company isn't resolving a dispute about a purchase on your statement",
         "b'I am writing to dispute the following charges on my CITI Credit Card Accounts where I have become a victim of identity theft when someone made a purchase without my authorization, I have not made any purchases and have no knowledge of them, I strongly believe the unauthorized transaction are the result of identity theft. An attachment fromXX/XX/XXXXshowing a new address for me is also fraudulent, I do not have or lived in Murfreesboro, TN  XX/XX/XXXX, thats when I became aware of the fraudulent charges. I then started the communications with CITI, XX/XX/XXXXabout the unauthorized fraudulent charge, I also included statements, credit score negative points due to inaccurate charges. After several attempts to clear this matter, it has become apparent that I am being ignored by CITI. I am not sure how to proceed to try and get the right help to clear this matter. I am hoping I have reached the correct CITI group to clear this matter.\\n\\nAccount Opened: XX/XX/XXXXcredit card number:XX/XX/XXXXn1.\\tCharge #1 of XX/XX/XXXX Charge amount was disputed and CITI closed account and mailed a 2nd different account.\\nNew CITI credit card replacement: XX/XX/XXXXn XX/XX/XXXXtCharge #2 interest charge and previously monthly payment total: XX/XX/XXXX dollars. Charge amount was disputed and CITI closed account and mailed a 3rd  different account.\\nNew CITI credit card replacemenXX/XX/XXXX\\tCharge #3 interest charge including previously monthly payment total XX/XX/XXXX\\nI have made three (3) phone call attempts to phone numberXX/XX/XXXX between March 4, 2025 thrXX/XX/XXXX to CITI to resolve the unauthorized charges with CITI to no avail. In return CITI has closed the original credit card with the credit card numbers as listed above but has kept transferring the unauthorized charges of the original credit card that was opened on XX/XX/XXXXo the new credit card accounts. CITI needs to remove all charges and credit my account showing a zero balance, I did not make any purchases whatsoever and I should not be responsible for any payments. CITI has turned in a late payment exceeding 30 days to the credit bureau and it has cost me a negative ofXX/XX/XXXX points. I have lost all faith in communicating with CITI by telephone to resolve this issue that is extremely frustrating. I need help to clear this matter.\\n\\nI am requesting that you immediately remove these charges from my account and credit my account for the total amount ofXX/XX/XXXXdollars. I also request that you investigate these unauthorized transaction and take steps to prevent future fraudulent charges to my account.\\n\\nI have attached copies of my credit card statement and other documents that support my claim.\\n\\nPlease send me written confirmation that you have removed the fraudulent charges and credited my account, and also that you have investigated the matter.\\n\\nThank you for your prompt attention to this matter.'",
         "Company has responded to the consumer and the CFPB and chooses not to provide a public response",
         "CITIBANK, N.A.",
         "TX",
         "78413",
         "Older American",
         "Consent provided",
         "Web",
         "2025-06-09",
         "Closed with monetary relief",
         "Yes",
         null,
         "13968411",
         "454",
         "bi am writing to dispute the following charges on my citi credit card accounts where i have become a victim of identity theft when someone made a purchase without my authorization i have not made any purchases and have no knowledge of them i strongly believe the unauthorized transaction are the result of identity theft an attachment fromxxxxxxxxshowing a new address for me is also fraudulent i do not have or lived in murfreesboro tn  xxxxxxxx thats when i became aware of the fraudulent charges i then started the communications with citi xxxxxxxxabout the unauthorized fraudulent charge i also included statements credit score negative points due to inaccurate charges after several attempts to clear this matter it has become apparent that i am being ignored by citi i am not sure how to proceed to try and get the right help to clear this matter i am hoping i have reached the correct citi group to clear this matternnaccount opened xxxxxxxxcredit card numberxxxxxxxxn1tcharge 1 of xxxxxxxx charge amount was disputed and citi closed account and mailed a 2nd different accountnnew citi credit card replacement xxxxxxxxn xxxxxxxxtcharge 2 interest charge and previously monthly payment total xxxxxxxx dollars charge amount was disputed and citi closed account and mailed a 3rd  different accountnnew citi credit card replacemenxxxxxxxxtcharge 3 interest charge including previously monthly payment total xxxxxxxxni have made three 3 phone call attempts to phone numberxxxxxxxx between march 4 2025 thrxxxxxxxx to citi to resolve the unauthorized charges with citi to no avail in return citi has closed the original credit card with the credit card numbers as listed above but has kept transferring the unauthorized charges of the original credit card that was opened on xxxxxxxxo the new credit card accounts citi needs to remove all charges and credit my account showing a zero balance i did not make any purchases whatsoever and i should not be responsible for any payments citi has turned in a late payment exceeding 30 days to the credit bureau and it has cost me a negative ofxxxxxxxx points i have lost all faith in communicating with citi by telephone to resolve this issue that is extremely frustrating i need help to clear this matternni am requesting that you immediately remove these charges from my account and credit my account for the total amount ofxxxxxxxxdollars i also request that you investigate these unauthorized transaction and take steps to prevent future fraudulent charges to my accountnni have attached copies of my credit card statement and other documents that support my claimnnplease send me written confirmation that you have removed the fraudulent charges and credited my account and also that you have investigated the matternnthank you for your prompt attention to this matter",
         "454",
         "['bi am writing to dispute the following charges on my citi credit card accounts where i have become a victim of identity theft when someone made a purchase without my authorization i have not made any purchases and have no knowledge of them i strongly', 'and have no knowledge of them i strongly believe the unauthorized transaction are the result of identity theft an attachment fromxxxxxxxxshowing a new address for me is also fraudulent i do not have or lived in murfreesboro tn  xxxxxxxx thats when i', 'lived in murfreesboro tn  xxxxxxxx thats when i became aware of the fraudulent charges i then started the communications with citi xxxxxxxxabout the unauthorized fraudulent charge i also included statements credit score negative points due to inaccurate', 'credit score negative points due to inaccurate charges after several attempts to clear this matter it has become apparent that i am being ignored by citi i am not sure how to proceed to try and get the right help to clear this matter i am hoping i have', 'help to clear this matter i am hoping i have reached the correct citi group to clear this matternnaccount opened xxxxxxxxcredit card numberxxxxxxxxn1tcharge 1 of xxxxxxxx charge amount was disputed and citi closed account and mailed a 2nd different', 'citi closed account and mailed a 2nd different accountnnew citi credit card replacement xxxxxxxxn xxxxxxxxtcharge 2 interest charge and previously monthly payment total xxxxxxxx dollars charge amount was disputed and citi closed account and mailed a 3rd', 'and citi closed account and mailed a 3rd  different accountnnew citi credit card replacemenxxxxxxxxtcharge 3 interest charge including previously monthly payment total xxxxxxxxni have made three 3 phone call attempts to phone numberxxxxxxxx between march', 'attempts to phone numberxxxxxxxx between march 4 2025 thrxxxxxxxx to citi to resolve the unauthorized charges with citi to no avail in return citi has closed the original credit card with the credit card numbers as listed above but has kept transferring', 'numbers as listed above but has kept transferring the unauthorized charges of the original credit card that was opened on xxxxxxxxo the new credit card accounts citi needs to remove all charges and credit my account showing a zero balance i did not make', 'my account showing a zero balance i did not make any purchases whatsoever and i should not be responsible for any payments citi has turned in a late payment exceeding 30 days to the credit bureau and it has cost me a negative ofxxxxxxxx points i have lost', 'cost me a negative ofxxxxxxxx points i have lost all faith in communicating with citi by telephone to resolve this issue that is extremely frustrating i need help to clear this matternni am requesting that you immediately remove these charges from my', 'that you immediately remove these charges from my account and credit my account for the total amount ofxxxxxxxxdollars i also request that you investigate these unauthorized transaction and take steps to prevent future fraudulent charges to my accountnni', 'future fraudulent charges to my accountnni have attached copies of my credit card statement and other documents that support my claimnnplease send me written confirmation that you have removed the fraudulent charges and credited my account and also that', 'charges and credited my account and also that you have investigated the matternnthank you for your prompt attention to this matter']"
        ],
        [
         "4",
         "2025-06-09",
         "Credit card",
         "General-purpose credit card or charge card",
         "Problem when making payments",
         "Problem during payment process",
         "Although the account had been deemed closed, I continued to make payments towards the dept, however, they requested that I pay XXXX as a minimal payment, which I could not afford, however, I did forward XXXX, dollars per month towards the dept. The problem here however, is that the continued XXXX dollars per month was never included towards the dept. They just very simply kept my monies without applying it towards the overall dept. Their explanation to me was that since I did not forward the latter XXXX, the XXXX dollars served as interest towards the dept. First, there was no practical reason for them to charge me an increase of XXXX, for missing one payment, and at no time had I violated any rule, regular, or policy of agreement, with this creditor. And was consistently paying over the minimal amount initially requested monthly. I want all those XXXX dollar payments accredited to my dept balance! So that this account can be paid off, in a fair and equitable way.",
         "Company believes it acted appropriately as authorized by contract or law",
         "Atlanticus Services Corporation",
         "NY",
         "11212",
         "Older American",
         "Consent provided",
         "Web",
         "2025-06-09",
         "Closed with monetary relief",
         "Yes",
         null,
         "13965746",
         "170",
         "although the account had been deemed closed i continued to make payments towards the dept however they requested that i pay xxxx as a minimal payment which i could not afford however i did forward xxxx dollars per month towards the dept the problem here however is that the continued xxxx dollars per month was never included towards the dept they just very simply kept my monies without applying it towards the overall dept their explanation to me was that since i did not forward the latter xxxx the xxxx dollars served as interest towards the dept first there was no practical reason for them to charge me an increase of xxxx for missing one payment and at no time had i violated any rule regular or policy of agreement with this creditor and was consistently paying over the minimal amount initially requested monthly i want all those xxxx dollar payments accredited to my dept balance so that this account can be paid off in a fair and equitable way",
         "170",
         "['although the account had been deemed closed i continued to make payments towards the dept however they requested that i pay xxxx as a minimal payment which i could not afford however i did forward xxxx dollars per month towards the dept the problem here', 'per month towards the dept the problem here however is that the continued xxxx dollars per month was never included towards the dept they just very simply kept my monies without applying it towards the overall dept their explanation to me was that since i', 'dept their explanation to me was that since i did not forward the latter xxxx the xxxx dollars served as interest towards the dept first there was no practical reason for them to charge me an increase of xxxx for missing one payment and at no time had i', 'xxxx for missing one payment and at no time had i violated any rule regular or policy of agreement with this creditor and was consistently paying over the minimal amount initially requested monthly i want all those xxxx dollar payments accredited to my', 'all those xxxx dollar payments accredited to my dept balance so that this account can be paid off in a fair and equitable way']"
        ]
       ],
       "shape": {
        "columns": 22,
        "rows": 5
       }
      },
      "text/html": [
       "<div>\n",
       "<style scoped>\n",
       "    .dataframe tbody tr th:only-of-type {\n",
       "        vertical-align: middle;\n",
       "    }\n",
       "\n",
       "    .dataframe tbody tr th {\n",
       "        vertical-align: top;\n",
       "    }\n",
       "\n",
       "    .dataframe thead th {\n",
       "        text-align: right;\n",
       "    }\n",
       "</style>\n",
       "<table border=\"1\" class=\"dataframe\">\n",
       "  <thead>\n",
       "    <tr style=\"text-align: right;\">\n",
       "      <th></th>\n",
       "      <th>Date received</th>\n",
       "      <th>Product</th>\n",
       "      <th>Sub-product</th>\n",
       "      <th>Issue</th>\n",
       "      <th>Sub-issue</th>\n",
       "      <th>Consumer complaint narrative</th>\n",
       "      <th>Company public response</th>\n",
       "      <th>Company</th>\n",
       "      <th>State</th>\n",
       "      <th>ZIP code</th>\n",
       "      <th>...</th>\n",
       "      <th>Submitted via</th>\n",
       "      <th>Date sent to company</th>\n",
       "      <th>Company response to consumer</th>\n",
       "      <th>Timely response?</th>\n",
       "      <th>Consumer disputed?</th>\n",
       "      <th>Complaint ID</th>\n",
       "      <th>narrative_length</th>\n",
       "      <th>cleaned_narrative</th>\n",
       "      <th>cleaned_narrative_length</th>\n",
       "      <th>narrative_chunks</th>\n",
       "    </tr>\n",
       "  </thead>\n",
       "  <tbody>\n",
       "    <tr>\n",
       "      <th>0</th>\n",
       "      <td>2025-06-13</td>\n",
       "      <td>Credit card</td>\n",
       "      <td>Store credit card</td>\n",
       "      <td>Getting a credit card</td>\n",
       "      <td>Card opened without my consent or knowledge</td>\n",
       "      <td>A XXXX XXXX card was opened under my name by a...</td>\n",
       "      <td>Company has responded to the consumer and the ...</td>\n",
       "      <td>CITIBANK, N.A.</td>\n",
       "      <td>TX</td>\n",
       "      <td>78230</td>\n",
       "      <td>...</td>\n",
       "      <td>Web</td>\n",
       "      <td>2025-06-13</td>\n",
       "      <td>Closed with non-monetary relief</td>\n",
       "      <td>Yes</td>\n",
       "      <td>NaN</td>\n",
       "      <td>14069121</td>\n",
       "      <td>91</td>\n",
       "      <td>a xxxx xxxx card was opened under my name by a...</td>\n",
       "      <td>91</td>\n",
       "      <td>['a xxxx xxxx card was opened under my name by...</td>\n",
       "    </tr>\n",
       "    <tr>\n",
       "      <th>1</th>\n",
       "      <td>2025-06-12</td>\n",
       "      <td>Credit card</td>\n",
       "      <td>General-purpose credit card or charge card</td>\n",
       "      <td>Other features, terms, or problems</td>\n",
       "      <td>Other problem</td>\n",
       "      <td>Dear CFPB, I have a secured credit card with c...</td>\n",
       "      <td>Company has responded to the consumer and the ...</td>\n",
       "      <td>CITIBANK, N.A.</td>\n",
       "      <td>NY</td>\n",
       "      <td>11220</td>\n",
       "      <td>...</td>\n",
       "      <td>Web</td>\n",
       "      <td>2025-06-13</td>\n",
       "      <td>Closed with monetary relief</td>\n",
       "      <td>Yes</td>\n",
       "      <td>NaN</td>\n",
       "      <td>14047085</td>\n",
       "      <td>156</td>\n",
       "      <td>dear cfpb i have a secured credit card with ci...</td>\n",
       "      <td>156</td>\n",
       "      <td>['dear cfpb i have a secured credit card with ...</td>\n",
       "    </tr>\n",
       "    <tr>\n",
       "      <th>2</th>\n",
       "      <td>2025-06-12</td>\n",
       "      <td>Credit card</td>\n",
       "      <td>General-purpose credit card or charge card</td>\n",
       "      <td>Incorrect information on your report</td>\n",
       "      <td>Account information incorrect</td>\n",
       "      <td>I have a Citi rewards cards. The credit balanc...</td>\n",
       "      <td>Company has responded to the consumer and the ...</td>\n",
       "      <td>CITIBANK, N.A.</td>\n",
       "      <td>IL</td>\n",
       "      <td>60067</td>\n",
       "      <td>...</td>\n",
       "      <td>Web</td>\n",
       "      <td>2025-06-12</td>\n",
       "      <td>Closed with explanation</td>\n",
       "      <td>Yes</td>\n",
       "      <td>NaN</td>\n",
       "      <td>14040217</td>\n",
       "      <td>233</td>\n",
       "      <td>i have a citi rewards cards the credit balance...</td>\n",
       "      <td>231</td>\n",
       "      <td>['i have a citi rewards cards the credit balan...</td>\n",
       "    </tr>\n",
       "    <tr>\n",
       "      <th>3</th>\n",
       "      <td>2025-06-09</td>\n",
       "      <td>Credit card</td>\n",
       "      <td>General-purpose credit card or charge card</td>\n",
       "      <td>Problem with a purchase shown on your statement</td>\n",
       "      <td>Credit card company isn't resolving a dispute ...</td>\n",
       "      <td>b'I am writing to dispute the following charge...</td>\n",
       "      <td>Company has responded to the consumer and the ...</td>\n",
       "      <td>CITIBANK, N.A.</td>\n",
       "      <td>TX</td>\n",
       "      <td>78413</td>\n",
       "      <td>...</td>\n",
       "      <td>Web</td>\n",
       "      <td>2025-06-09</td>\n",
       "      <td>Closed with monetary relief</td>\n",
       "      <td>Yes</td>\n",
       "      <td>NaN</td>\n",
       "      <td>13968411</td>\n",
       "      <td>454</td>\n",
       "      <td>bi am writing to dispute the following charges...</td>\n",
       "      <td>454</td>\n",
       "      <td>['bi am writing to dispute the following charg...</td>\n",
       "    </tr>\n",
       "    <tr>\n",
       "      <th>4</th>\n",
       "      <td>2025-06-09</td>\n",
       "      <td>Credit card</td>\n",
       "      <td>General-purpose credit card or charge card</td>\n",
       "      <td>Problem when making payments</td>\n",
       "      <td>Problem during payment process</td>\n",
       "      <td>Although the account had been deemed closed, I...</td>\n",
       "      <td>Company believes it acted appropriately as aut...</td>\n",
       "      <td>Atlanticus Services Corporation</td>\n",
       "      <td>NY</td>\n",
       "      <td>11212</td>\n",
       "      <td>...</td>\n",
       "      <td>Web</td>\n",
       "      <td>2025-06-09</td>\n",
       "      <td>Closed with monetary relief</td>\n",
       "      <td>Yes</td>\n",
       "      <td>NaN</td>\n",
       "      <td>13965746</td>\n",
       "      <td>170</td>\n",
       "      <td>although the account had been deemed closed i ...</td>\n",
       "      <td>170</td>\n",
       "      <td>['although the account had been deemed closed ...</td>\n",
       "    </tr>\n",
       "  </tbody>\n",
       "</table>\n",
       "<p>5 rows × 22 columns</p>\n",
       "</div>"
      ],
      "text/plain": [
       "  Date received      Product                                 Sub-product  \\\n",
       "0    2025-06-13  Credit card                           Store credit card   \n",
       "1    2025-06-12  Credit card  General-purpose credit card or charge card   \n",
       "2    2025-06-12  Credit card  General-purpose credit card or charge card   \n",
       "3    2025-06-09  Credit card  General-purpose credit card or charge card   \n",
       "4    2025-06-09  Credit card  General-purpose credit card or charge card   \n",
       "\n",
       "                                             Issue  \\\n",
       "0                            Getting a credit card   \n",
       "1               Other features, terms, or problems   \n",
       "2             Incorrect information on your report   \n",
       "3  Problem with a purchase shown on your statement   \n",
       "4                     Problem when making payments   \n",
       "\n",
       "                                           Sub-issue  \\\n",
       "0        Card opened without my consent or knowledge   \n",
       "1                                      Other problem   \n",
       "2                      Account information incorrect   \n",
       "3  Credit card company isn't resolving a dispute ...   \n",
       "4                     Problem during payment process   \n",
       "\n",
       "                        Consumer complaint narrative  \\\n",
       "0  A XXXX XXXX card was opened under my name by a...   \n",
       "1  Dear CFPB, I have a secured credit card with c...   \n",
       "2  I have a Citi rewards cards. The credit balanc...   \n",
       "3  b'I am writing to dispute the following charge...   \n",
       "4  Although the account had been deemed closed, I...   \n",
       "\n",
       "                             Company public response  \\\n",
       "0  Company has responded to the consumer and the ...   \n",
       "1  Company has responded to the consumer and the ...   \n",
       "2  Company has responded to the consumer and the ...   \n",
       "3  Company has responded to the consumer and the ...   \n",
       "4  Company believes it acted appropriately as aut...   \n",
       "\n",
       "                           Company State ZIP code  ... Submitted via  \\\n",
       "0                   CITIBANK, N.A.    TX    78230  ...           Web   \n",
       "1                   CITIBANK, N.A.    NY    11220  ...           Web   \n",
       "2                   CITIBANK, N.A.    IL    60067  ...           Web   \n",
       "3                   CITIBANK, N.A.    TX    78413  ...           Web   \n",
       "4  Atlanticus Services Corporation    NY    11212  ...           Web   \n",
       "\n",
       "  Date sent to company     Company response to consumer Timely response?  \\\n",
       "0           2025-06-13  Closed with non-monetary relief              Yes   \n",
       "1           2025-06-13      Closed with monetary relief              Yes   \n",
       "2           2025-06-12          Closed with explanation              Yes   \n",
       "3           2025-06-09      Closed with monetary relief              Yes   \n",
       "4           2025-06-09      Closed with monetary relief              Yes   \n",
       "\n",
       "  Consumer disputed? Complaint ID narrative_length  \\\n",
       "0                NaN     14069121               91   \n",
       "1                NaN     14047085              156   \n",
       "2                NaN     14040217              233   \n",
       "3                NaN     13968411              454   \n",
       "4                NaN     13965746              170   \n",
       "\n",
       "                                   cleaned_narrative  \\\n",
       "0  a xxxx xxxx card was opened under my name by a...   \n",
       "1  dear cfpb i have a secured credit card with ci...   \n",
       "2  i have a citi rewards cards the credit balance...   \n",
       "3  bi am writing to dispute the following charges...   \n",
       "4  although the account had been deemed closed i ...   \n",
       "\n",
       "   cleaned_narrative_length                                   narrative_chunks  \n",
       "0                        91  ['a xxxx xxxx card was opened under my name by...  \n",
       "1                       156  ['dear cfpb i have a secured credit card with ...  \n",
       "2                       231  ['i have a citi rewards cards the credit balan...  \n",
       "3                       454  ['bi am writing to dispute the following charg...  \n",
       "4                       170  ['although the account had been deemed closed ...  \n",
       "\n",
       "[5 rows x 22 columns]"
      ]
     },
     "execution_count": 3,
     "metadata": {},
     "output_type": "execute_result"
    }
   ],
   "source": [
    "df.head()"
   ]
  },
  {
   "cell_type": "markdown",
   "id": "7f35d719",
   "metadata": {},
   "source": [
    "## Embedding Model Choice\n",
    "\n",
    "For this project, I used the `all-MiniLM-L6-v2` model from the SentenceTransformers library. This model is lightweight, fast, and provides high-quality sentence embeddings suitable for semantic search and retrieval tasks. It is widely used in industry and research for its balance of performance and efficiency."
   ]
  },
  {
   "cell_type": "code",
   "execution_count": null,
   "id": "e5b60129",
   "metadata": {},
   "outputs": [],
   "source": [
    "# Prepare chunks and metadata\n",
    "all_chunks, metadata = prepare_chunks_and_metadata(df)"
   ]
  },
  {
   "cell_type": "code",
   "execution_count": null,
   "id": "5ecf3dd6",
   "metadata": {},
   "outputs": [],
   "source": [
    "# Load the embedding model\n",
    "embedding_model = load_embedding_model('all-MiniLM-L6-v2')"
   ]
  },
  {
   "cell_type": "code",
   "execution_count": null,
   "id": "418b9c6a",
   "metadata": {},
   "outputs": [
    {
     "ename": "NameError",
     "evalue": "name 'embed_chunks' is not defined",
     "output_type": "error",
     "traceback": [
      "\u001b[31m---------------------------------------------------------------------------\u001b[39m",
      "\u001b[31mNameError\u001b[39m                                 Traceback (most recent call last)",
      "\u001b[36mCell\u001b[39m\u001b[36m \u001b[39m\u001b[32mIn[7]\u001b[39m\u001b[32m, line 2\u001b[39m\n\u001b[32m      1\u001b[39m \u001b[38;5;66;03m# Generate embeddings for all chunks\u001b[39;00m\n\u001b[32m----> \u001b[39m\u001b[32m2\u001b[39m embeddings = \u001b[43membed_chunks\u001b[49m(all_chunks, embedding_model)\n",
      "\u001b[31mNameError\u001b[39m: name 'embed_chunks' is not defined"
     ]
    }
   ],
   "source": [
    "# Generate embeddings for all chunks\n",
    "embeddings = embed_chunks(all_chunks, embedding_model)\n",
    "\n",
    "# Store embeddings as a numpy array\n",
    "embeddings = np.array(embeddings)\n",
    "print('Embeddings shape:', embeddings.shape)\n",
    "embeddings[:2]"
   ]
  },
  {
   "cell_type": "markdown",
   "id": "e3a8f0cd",
   "metadata": {},
   "source": [
    "## Vector Store Indexing"
   ]
  },
  {
   "cell_type": "code",
   "execution_count": null,
   "id": "0a63f10c",
   "metadata": {},
   "outputs": [],
   "source": [
    "# Create FAISS index\n",
    "index = initialize_faiss_index(embeddings)"
   ]
  },
  {
   "cell_type": "code",
   "execution_count": null,
   "id": "81ea5648",
   "metadata": {},
   "outputs": [],
   "source": [
    "index_path = '../vector_store/complaint_chunks.index'\n",
    "metadata_path = '../vector_store/complaint_chunks_metadata.pkl'\n",
    "\n",
    "save_faiss_index(index, metadata, index_path, metadata_path)"
   ]
  },
  {
   "cell_type": "code",
   "execution_count": null,
   "id": "f470958d",
   "metadata": {},
   "outputs": [
    {
     "name": "stdout",
     "output_type": "stream",
     "text": [
      "Stored 1609126 chunk vectors and metadata in 'vector_store/' directory.\n"
     ]
    }
   ],
   "source": [
    "# Save index and metadata\n",
    "os.makedirs('vector_store', exist_ok=True)\n",
    "faiss.write_index(index, 'vector_store/complaint_chunks.index')\n",
    "with open('vector_store/complaint_chunks_metadata.pkl', 'wb') as f:\n",
    "    pickle.dump(metadata, f)\n",
    "\n",
    "print(f\"Stored {len(all_chunks)} chunk vectors and metadata in 'vector_store/' directory.\")"
   ]
  },
  {
   "cell_type": "code",
   "execution_count": null,
   "id": "7f218b5a",
   "metadata": {},
   "outputs": [
    {
     "name": "stdout",
     "output_type": "stream",
     "text": [
      "Query: 'Why are people unhappy with saving accounts?'\n",
      "\n",
      "Most similar complaints:\n",
      "  Complaint 1 (Distance: 0.8811):\n",
      "  was not advised of 360 saving account lack or information potential to increase saving\n",
      "\n",
      "  Complaint 2 (Distance: 0.8894):\n",
      "  saving account always going to xxxx  dollars\n",
      "\n",
      "  Complaint 3 (Distance: 0.8951):\n",
      "  i never agreed to open a savings account and magically i had one\n",
      "\n",
      "  Complaint 4 (Distance: 0.9012):\n",
      "  like many people i dont really use my savings account its a nice perk i guess a rainy day fund that allows me to mentally set some money aside ive had checking and savings accounts with bank of america for almost 15 years now for almost all of that time no\n",
      "\n",
      "  Complaint 5 (Distance: 0.9196):\n",
      "  capital one mislead its consumers about their 360 savings account kept them in the dark about savings account which offer greater benefits in return interest rates while keeping the 360 savings accounts interest returns deflated compared to the market\n",
      "\n"
     ]
    }
   ],
   "source": [
    "# 1. Define a query string\n",
    "query_string = \"Why are people unhappy with saving accounts?\"\n",
    "\n",
    "# 2. Generate an embedding for the query string\n",
    "query_embedding = embedding_model.encode([query_string])[0] # Get the single embedding vector\n",
    "\n",
    "# Ensure the query embedding is a 2D NumPy array\n",
    "query_embedding = np.array([query_embedding])\n",
    "\n",
    "# 3. Use the loaded FAISS index to perform a similarity search\n",
    "k = 5  # Number of nearest neighbors to retrieve\n",
    "distances, indices = index.search(query_embedding, k)\n",
    "\n",
    "# 5. Map the retrieved indices back to the original data\n",
    "similar_complaints = [sample_chunks.iloc[i] for i in indices[0]]\n",
    "\n",
    "# 6. Print the query string and the retrieved similar items along with their corresponding distances\n",
    "print(f\"Query: '{query_string}'\\n\")\n",
    "print(\"Most similar complaints:\")\n",
    "for i in range(k):\n",
    "    print(f\"  Complaint {i+1} (Distance: {distances[0][i]:.4f}):\")\n",
    "    print(f\"  {similar_complaints[i]}\\n\")"
   ]
  },
  {
   "cell_type": "code",
   "execution_count": null,
   "id": "e28a2be4",
   "metadata": {},
   "outputs": [],
   "source": [
    "# Load data and models\n",
    "embedding_model = SentenceTransformer('all-MiniLM-L6-v2')\n",
    "index = load_faiss_index('../vector_store/complaint_chunks.index')\n",
    "metadata_list = load_metadata('../vector_store/complaint_chunks_metadata.pkl')\n",
    "\n",
    "# Load all_chunks (flattened list of all text chunks, in the same order as embeddings/metadata)\n",
    "df = pd.read_csv('../data/filtered_complaints.csv')\n",
    "all_chunks = []\n",
    "for idx, row in df.iterrows():\n",
    "    if 'narrative_chunks' in row and isinstance(row['narrative_chunks'], list):\n",
    "        all_chunks.extend(row['narrative_chunks'])\n",
    "    elif 'narrative_chunks' in row and isinstance(row['narrative_chunks'], str):\n",
    "        # If stored as string, try to eval to list\n",
    "        import ast\n",
    "        try:\n",
    "            chunks = ast.literal_eval(row['narrative_chunks'])\n",
    "            if isinstance(chunks, list):\n",
    "                all_chunks.extend(chunks)\n",
    "        except Exception:\n",
    "            pass\n",
    "\n",
    "# Example usage\n",
    "question = \"Why are people unhappy with saving accounts?\"\n",
    "results = retrieve_similar_complaints(question, embedding_model, index, metadata_list, all_chunks, k=5)\n",
    "for i, (chunk, meta, dist) in enumerate(results, 1):\n",
    "    print(f\"Result {i} (Distance: {dist:.4f})\")\n",
    "    print(f\"Complaint ID: {meta['complaint_id']}, Product: {meta['product']}\")\n",
    "    print(f\"Text: {chunk}\\n\")"
   ]
  }
 ],
 "metadata": {
  "kernelspec": {
   "display_name": ".venv",
   "language": "python",
   "name": "python3"
  },
  "language_info": {
   "codemirror_mode": {
    "name": "ipython",
    "version": 3
   },
   "file_extension": ".py",
   "mimetype": "text/x-python",
   "name": "python",
   "nbconvert_exporter": "python",
   "pygments_lexer": "ipython3",
   "version": "3.12.3"
  }
 },
 "nbformat": 4,
 "nbformat_minor": 5
}
