{
 "cells": [
  {
   "cell_type": "markdown",
   "id": "24c41511",
   "metadata": {},
   "source": [
    "# Retrival Augmented Generation (RAG)"
   ]
  },
  {
   "cell_type": "markdown",
   "id": "40e26559",
   "metadata": {},
   "source": [
    "## Import Required Libraries"
   ]
  },
  {
   "cell_type": "code",
   "execution_count": 1,
   "id": "c4328d98",
   "metadata": {},
   "outputs": [
    {
     "name": "stderr",
     "output_type": "stream",
     "text": [
      "e:\\KAIM\\week6\\intelligent-complaint-analysis-week6\\.venv\\Lib\\site-packages\\tqdm\\auto.py:21: TqdmWarning: IProgress not found. Please update jupyter and ipywidgets. See https://ipywidgets.readthedocs.io/en/stable/user_install.html\n",
      "  from .autonotebook import tqdm as notebook_tqdm\n"
     ]
    }
   ],
   "source": [
    "import pandas as pd\n",
    "import os\n",
    "import sys\n",
    "module_path = os.path.abspath(os.path.join('..'))\n",
    "if module_path not in sys.path:\n",
    "    sys.path.append(module_path)\n",
    "from src.rag import (retrieve_similar_complaints, load_faiss_index, load_metadata, load_embedding_model,\n",
    "                     prepare_chunks_and_metadata, generate_llm_answer, generate_llama_llm_answer)"
   ]
  },
  {
   "cell_type": "markdown",
   "id": "04e8ecb8",
   "metadata": {},
   "source": [
    "## Load Chunked Complaints Data"
   ]
  },
  {
   "cell_type": "code",
   "execution_count": 2,
   "id": "eba9648a",
   "metadata": {},
   "outputs": [],
   "source": [
    "file_path = '../data/chunked_complaints.csv'\n",
    "df = pd.read_csv(file_path)"
   ]
  },
  {
   "cell_type": "markdown",
   "id": "e1cc3adf",
   "metadata": {},
   "source": [
    "## Load Embedding Model"
   ]
  },
  {
   "cell_type": "code",
   "execution_count": 3,
   "id": "9a8493fc",
   "metadata": {},
   "outputs": [],
   "source": [
    "embedding_model = load_embedding_model('all-MiniLM-L6-v2')"
   ]
  },
  {
   "cell_type": "markdown",
   "id": "01f2c3b5",
   "metadata": {},
   "source": [
    "## Load FAISS Index and Metadata"
   ]
  },
  {
   "cell_type": "code",
   "execution_count": 4,
   "id": "a78dcf3e",
   "metadata": {},
   "outputs": [],
   "source": [
    "index_path = './vector_store/complaint_chunks.index'\n",
    "metadata_path = './vector_store/complaint_chunks_metadata.pkl'\n",
    "index = load_faiss_index(index_path)\n",
    "metadata_list = load_metadata(metadata_path)"
   ]
  },
  {
   "cell_type": "markdown",
   "id": "3904d926",
   "metadata": {},
   "source": [
    "## Prepare Chunks and Metadata"
   ]
  },
  {
   "cell_type": "code",
   "execution_count": 5,
   "id": "53eeb970",
   "metadata": {},
   "outputs": [],
   "source": [
    "# Prepare chunks and metadata\n",
    "all_chunks, metadata = prepare_chunks_and_metadata(df)"
   ]
  },
  {
   "cell_type": "markdown",
   "id": "80fbad49",
   "metadata": {},
   "source": [
    "## Example Retrieval for a Single Question"
   ]
  },
  {
   "cell_type": "code",
   "execution_count": 6,
   "id": "4b501f35",
   "metadata": {},
   "outputs": [
    {
     "name": "stdout",
     "output_type": "stream",
     "text": [
      "Result 1 (Distance: 0.6193)\n",
      "Complaint ID: 3554689, Product: Money transfer, virtual currency, or money service\n",
      "Text: the attempted transactions other than the 3 error messages immediately following the failed transfer attempts\n",
      "\n",
      "Result 2 (Distance: 0.6341)\n",
      "Complaint ID: 4207248, Product: Money transfer, virtual currency, or money service\n",
      "Text: affects the availability of your money transfer and some transactions\n",
      "\n",
      "Result 3 (Distance: 0.6344)\n",
      "Complaint ID: 3563183, Product: Money transfer, virtual currency, or money service\n",
      "Text: i find this a huge failure in communication and completely unacceptable when it comes to someones finances what if the situation was reversed and i was in fact calling to cancel a transfer if there was a similar failure in communication or someone failed\n",
      "\n",
      "Result 4 (Distance: 0.6555)\n",
      "Complaint ID: 10272723, Product: Money transfer, virtual currency, or money service\n",
      "Text: recipient and secondly processed payments that appeared as failed on their banking app\n",
      "\n",
      "Result 5 (Distance: 0.6597)\n",
      "Complaint ID: 11604299, Product: Money transfer, virtual currency, or money service\n",
      "Text: did not provide clear information regarding the risks of sending money to incorrect accounts including the difficulty of reversing such transactions as a result i  and many others  experienced financial losses when money was transferred to the wrong\n",
      "\n"
     ]
    }
   ],
   "source": [
    "question = \"What are the common reasons for failed transactions in Money Transfer?\"\n",
    "results = retrieve_similar_complaints(question, embedding_model, index, metadata_list, all_chunks, k=5)\n",
    "for i, (chunk, meta, dist) in enumerate(results, 1):\n",
    "        print(f\"Result {i} (Distance: {dist:.4f})\")\n",
    "        print(f\"Complaint ID: {meta['complaint_id']}, Product: {meta['product']}\")\n",
    "        print(f\"Text: {chunk}\\n\")"
   ]
  },
  {
   "cell_type": "markdown",
   "id": "2402467a",
   "metadata": {},
   "source": [
    "## Define Prompt Template"
   ]
  },
  {
   "cell_type": "code",
   "execution_count": 7,
   "id": "87e656e5",
   "metadata": {},
   "outputs": [],
   "source": [
    "# Prompt template for LLM retrieval-augmented generation\n",
    "PROMPT_TEMPLATE = (\n",
    "    \"You are a financial analyst assistant for CrediTrust. \"\n",
    "    \"Your task is to answer questions about customer complaints. \"\n",
    "    \"Use only the following retrieved complaint excerpts to formulate your answer. \"\n",
    "    \"If the context does not contain the answer, state that you don't have enough information.\\n\\n\"\n",
    "    \"Context:\\n{context}\\n\\n\"\n",
    "    \"Question: {question}\\n\"\n",
    "    \"Answer:\"\n",
    ")"
   ]
  },
  {
   "cell_type": "markdown",
   "id": "2203755e",
   "metadata": {},
   "source": [
    "## Define Evaluation Questions and Generate Answers"
   ]
  },
  {
   "cell_type": "code",
   "execution_count": 12,
   "id": "af96aa15",
   "metadata": {},
   "outputs": [
    {
     "name": "stdout",
     "output_type": "stream",
     "text": [
      "Processing question: What are the reasons for complaints about saving accounts?\n",
      "Processing question: What are the common issues with credit cards?\n",
      "Processing question: Summarize fraud-related complaints for Money Transfer\n",
      "Processing question: Are there any complaints about loan approval delays?\n",
      "Processing question: What are the common reasons for failed transactions in Money Transfer?\n",
      "Processing question: Why are customers complaining about hidden fees in Credit Cards?\n",
      "Processing question: What evidence suggest fraud in saving accounts complaints?\n",
      "Processing question: List complaints related to unauthorized transactions?\n",
      "Processing question: What are the common issues with personal loans?\n",
      "Processing question: what are refund requests in Money Transfer\n"
     ]
    }
   ],
   "source": [
    "questions = [\n",
    "    \"What are the reasons for complaints about saving accounts?\",\n",
    "    \"What are the common issues with credit cards?\",\n",
    "    \"Summarize fraud-related complaints for Money Transfer\",\n",
    "    \"Are there any complaints about loan approval delays?\",\n",
    "    \"What are the common reasons for failed transactions in Money Transfer?\",\n",
    "    \"Why are customers complaining about hidden fees in Credit Cards?\",\n",
    "    \"What evidence suggest fraud in saving accounts complaints?\",\n",
    "    \"List complaints related to unauthorized transactions?\",\n",
    "    \"What are the common issues with personal loans?\",\n",
    "    \"what are refund requests in Money Transfer\",\n",
    "    ]\n",
    "\n",
    "answers = []\n",
    "\n",
    "for question in questions:\n",
    "    # Retrieve similar complaints\n",
    "    print(f\"Processing question: {question}\")\n",
    "    results = retrieve_similar_complaints(question, embedding_model, index, metadata_list, all_chunks, k=15)\n",
    "    retrieved_chunks = [chunk for chunk, meta, dist in results]\n",
    "    answer = generate_llama_llm_answer(\n",
    "        question,\n",
    "        retrieved_chunks,\n",
    "        PROMPT_TEMPLATE,\n",
    "        model_name=\"meta-llama/Meta-Llama-3.1-8B-Instruct\"\n",
    "    )\n",
    "\n",
    "    answers.append({\n",
    "        'question': question,\n",
    "        'answer': answer,\n",
    "        'context': \"\\n\".join(retrieved_chunks[:3])  # Use the first 3 chunks as context\n",
    "    })\n",
    "\n",
    "# Create DataFrame from the list of dicts\n",
    "answer_df = pd.DataFrame(answers)\n",
    "answer_df.to_csv('../data/answers.csv', index=False)"
   ]
  },
  {
   "cell_type": "markdown",
   "id": "b8fd4cbf",
   "metadata": {},
   "source": [
    "## Display Generated Answers"
   ]
  },
  {
   "cell_type": "code",
   "execution_count": 13,
   "id": "c814712a",
   "metadata": {},
   "outputs": [
    {
     "data": {
      "application/vnd.microsoft.datawrangler.viewer.v0+json": {
       "columns": [
        {
         "name": "index",
         "rawType": "int64",
         "type": "integer"
        },
        {
         "name": "question",
         "rawType": "object",
         "type": "string"
        },
        {
         "name": "answer",
         "rawType": "object",
         "type": "string"
        },
        {
         "name": "context",
         "rawType": "object",
         "type": "string"
        }
       ],
       "ref": "969c8ffa-9d9f-45c5-b7d2-1e79a11c5243",
       "rows": [
        [
         "0",
         "What are the reasons for complaints about saving accounts?",
         "Based on the provided complaint excerpts, the reasons for complaints about saving accounts include:\n\n* Unjustified or unclear account terminations or closures\n* Hidden or mislabeled savings accounts, leading to penalties or reduced interest payouts\n* Difficulty in accessing or managing savings accounts\n* Lack of transparency or communication from the bank or financial institution\n* Perceived discriminatory practices or manipulation of customer preferences\n* Potential for loss of savings or interest earnings due to account closures or mismanagement\n\nIt appears that some customers have experienced financial distress or frustration due to these issues, and are seeking redress or resolution from the financial institution.",
         "for seeking redress of our claim more important for putting holds on our checking and saving accounts for specious reasons\nother similar complaints  i have researched and found numerous other cases over the past xxxx years from consumers experiencing similar issues with account terminations under unclear or unjustified circumstances these reports suggest a potential pattern\naccount so that is one of the reasons i am filing this complaint"
        ],
        [
         "1",
         "What are the common issues with credit cards?",
         "Based on the provided complaint excerpts, the common issues with credit cards mentioned by customers include:\n\n* High interest rates that make credit cards a source of financial burden for families\n* Canceling of cards, leading to issues with making payments\n* Confusion and frustration with representatives who seem clueless or unhelpful\n* Shady business practices, implying unfair or deceptive practices by the credit card company\n* Difficulty with card usage and charges, including issues with transactions and payment processing\n\nIt's worth noting that these issues seem to be more prevalent with the specific credit card company in question, rather than being inherent to credit cards in general.",
         "i typically have no problem with credit cards because 1  i am a high income individual 2  with a relatively high credit score and 3  almost no debt since i have a paid for house with no mortgage or rent expense i have an extremely low available credit on\ndont have issues with any of my current credit cards\nany issues like this with any other credit card companies im not sure what else to do"
        ],
        [
         "2",
         "Summarize fraud-related complaints for Money Transfer",
         "Based on the provided complaint excerpts, here is a summary of the fraud-related complaints for Money Transfer:\n\n1. Multiple instances of unauthorized and fraudulent money transfers from various bank accounts to different recipients, totaling amounts ranging from $90 to $15,000,000.\n2. Fraudsters initiated transfers without proper warning from the financial institution, with some transfers being flagged as suspicious but still processed.\n3. Complaints involved suspicious activity reports (SARs) and investigations into the transactions, with some cases resulting in the return of the transferred funds.\n4. Complainants reported being accused of committing fraud by the recipient bank or financial institution, despite the transfers being unauthorized.\n5. Some complaints mentioned the use of services like Bank of America and US Bank, with transactions being sent to these institutions to help track down the fraudsters.\n\nOverall, the complaints highlight instances of unauthorized and fraudulent money transfers, with varying amounts and methods of transfer.",
         "xxxx and other money transfers that were fraud initiated and completed without proper warning from financial institution\nwho received my money  and 2 denials one for each transfer stating it wasnt fraud\nthe requested money was fraudulently transferred in five transactions in the following amounts  transfer 1  900 transfer 2  95000 transfer 3  94000 transfer 4  48000 transfer 5  10000 the fraudsters even asked to confirm the amount left in the account at"
        ],
        [
         "3",
         "Are there any complaints about loan approval delays?",
         "Yes, there are several complaints about loan approval delays. Here are some excerpts that support this:\n\n* \"we were left waiting an unnecessary amount of time\" (complaint 1)\n* \"again they delayed before letting me know they needed more information\" (complaint 3)\n* \"it took them ten days from date of receipt to even check my application\" (complaint 3)\n* \"delayed or denied and favorable loans unavailable\" (complaint 6)\n* \"i was made to wait for days and weeks for an approval on my loan or no approval for a loan\" (complaint 9)\n* \"i was made to wait for my commercial vehicle loan officer to come back in from a long family vacation just to finish processing my paperwork for an approval\" (complaint 10)\n\nThese complaints suggest that there were significant delays in the loan approval process, which caused frustration and inconvenience for the customers.",
         "that they didnt have to approve us for a loan at all we believe 1  we were left waiting an unnecessary amount of time and 2  we were repeatedly asked for additional documentation that further delayed the process\ninquired about a loan as it was the only option speaking with representatives they seemed eager to help and called immediately to assist with a personal loan that was approved however it seemed to good to be true on how fast it was approved as in the\nagain they delayed before letting me know they needed more information it took them ten days from date of receipt to even check my application yet the loans were supposed to be given on a first come basis they repeatedly asked for the same information"
        ],
        [
         "4",
         "What are the common reasons for failed transactions in Money Transfer?",
         "Based on the provided complaint excerpts, the common reasons for failed transactions in Money Transfer at CrediTrust appear to be:\n\n1. Sending funds to the wrong recipient\n2. Insufficient funds\n3. Incorrect transaction details\n\nThese reasons are mentioned in various complaints, including issues with reversals, lack of communication, and financial losses resulting from mistakes in transaction details or wrong recipient information.",
         "the attempted transactions other than the 3 error messages immediately following the failed transfer attempts\naffects the availability of your money transfer and some transactions\ni find this a huge failure in communication and completely unacceptable when it comes to someones finances what if the situation was reversed and i was in fact calling to cancel a transfer if there was a similar failure in communication or someone failed"
        ]
       ],
       "shape": {
        "columns": 3,
        "rows": 5
       }
      },
      "text/html": [
       "<div>\n",
       "<style scoped>\n",
       "    .dataframe tbody tr th:only-of-type {\n",
       "        vertical-align: middle;\n",
       "    }\n",
       "\n",
       "    .dataframe tbody tr th {\n",
       "        vertical-align: top;\n",
       "    }\n",
       "\n",
       "    .dataframe thead th {\n",
       "        text-align: right;\n",
       "    }\n",
       "</style>\n",
       "<table border=\"1\" class=\"dataframe\">\n",
       "  <thead>\n",
       "    <tr style=\"text-align: right;\">\n",
       "      <th></th>\n",
       "      <th>question</th>\n",
       "      <th>answer</th>\n",
       "      <th>context</th>\n",
       "    </tr>\n",
       "  </thead>\n",
       "  <tbody>\n",
       "    <tr>\n",
       "      <th>0</th>\n",
       "      <td>What are the reasons for complaints about savi...</td>\n",
       "      <td>Based on the provided complaint excerpts, the ...</td>\n",
       "      <td>for seeking redress of our claim more importan...</td>\n",
       "    </tr>\n",
       "    <tr>\n",
       "      <th>1</th>\n",
       "      <td>What are the common issues with credit cards?</td>\n",
       "      <td>Based on the provided complaint excerpts, the ...</td>\n",
       "      <td>i typically have no problem with credit cards ...</td>\n",
       "    </tr>\n",
       "    <tr>\n",
       "      <th>2</th>\n",
       "      <td>Summarize fraud-related complaints for Money T...</td>\n",
       "      <td>Based on the provided complaint excerpts, here...</td>\n",
       "      <td>xxxx and other money transfers that were fraud...</td>\n",
       "    </tr>\n",
       "    <tr>\n",
       "      <th>3</th>\n",
       "      <td>Are there any complaints about loan approval d...</td>\n",
       "      <td>Yes, there are several complaints about loan a...</td>\n",
       "      <td>that they didnt have to approve us for a loan ...</td>\n",
       "    </tr>\n",
       "    <tr>\n",
       "      <th>4</th>\n",
       "      <td>What are the common reasons for failed transac...</td>\n",
       "      <td>Based on the provided complaint excerpts, the ...</td>\n",
       "      <td>the attempted transactions other than the 3 er...</td>\n",
       "    </tr>\n",
       "  </tbody>\n",
       "</table>\n",
       "</div>"
      ],
      "text/plain": [
       "                                            question  \\\n",
       "0  What are the reasons for complaints about savi...   \n",
       "1      What are the common issues with credit cards?   \n",
       "2  Summarize fraud-related complaints for Money T...   \n",
       "3  Are there any complaints about loan approval d...   \n",
       "4  What are the common reasons for failed transac...   \n",
       "\n",
       "                                              answer  \\\n",
       "0  Based on the provided complaint excerpts, the ...   \n",
       "1  Based on the provided complaint excerpts, the ...   \n",
       "2  Based on the provided complaint excerpts, here...   \n",
       "3  Yes, there are several complaints about loan a...   \n",
       "4  Based on the provided complaint excerpts, the ...   \n",
       "\n",
       "                                             context  \n",
       "0  for seeking redress of our claim more importan...  \n",
       "1  i typically have no problem with credit cards ...  \n",
       "2  xxxx and other money transfers that were fraud...  \n",
       "3  that they didnt have to approve us for a loan ...  \n",
       "4  the attempted transactions other than the 3 er...  "
      ]
     },
     "execution_count": 13,
     "metadata": {},
     "output_type": "execute_result"
    }
   ],
   "source": [
    "answer_df.head()  # Display the first few rows of the answer DataFrame"
   ]
  }
 ],
 "metadata": {
  "kernelspec": {
   "display_name": ".venv",
   "language": "python",
   "name": "python3"
  },
  "language_info": {
   "codemirror_mode": {
    "name": "ipython",
    "version": 3
   },
   "file_extension": ".py",
   "mimetype": "text/x-python",
   "name": "python",
   "nbconvert_exporter": "python",
   "pygments_lexer": "ipython3",
   "version": "3.12.3"
  }
 },
 "nbformat": 4,
 "nbformat_minor": 5
}
