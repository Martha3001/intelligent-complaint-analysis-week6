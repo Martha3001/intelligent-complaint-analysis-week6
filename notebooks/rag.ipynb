{
 "cells": [
  {
   "cell_type": "code",
   "execution_count": 1,
   "id": "c4328d98",
   "metadata": {},
   "outputs": [
    {
     "name": "stderr",
     "output_type": "stream",
     "text": [
      "e:\\KAIM\\week6\\intelligent-complaint-analysis-week6\\.venv\\Lib\\site-packages\\tqdm\\auto.py:21: TqdmWarning: IProgress not found. Please update jupyter and ipywidgets. See https://ipywidgets.readthedocs.io/en/stable/user_install.html\n",
      "  from .autonotebook import tqdm as notebook_tqdm\n"
     ]
    }
   ],
   "source": [
    "import pandas as pd\n",
    "import os\n",
    "import sys\n",
    "module_path = os.path.abspath(os.path.join('..'))\n",
    "if module_path not in sys.path:\n",
    "    sys.path.append(module_path)\n",
    "from src.rag import (retrieve_similar_complaints, load_faiss_index, load_metadata, load_embedding_model,\n",
    "                     prepare_chunks_and_metadata, generate_llm_answer, generate_llama_llm_answer)"
   ]
  },
  {
   "cell_type": "code",
   "execution_count": 2,
   "id": "eba9648a",
   "metadata": {},
   "outputs": [],
   "source": [
    "file_path = '../data/chunked_complaints.csv'\n",
    "df = pd.read_csv(file_path)"
   ]
  },
  {
   "cell_type": "code",
   "execution_count": 3,
   "id": "9a8493fc",
   "metadata": {},
   "outputs": [],
   "source": [
    "embedding_model = load_embedding_model('all-MiniLM-L6-v2')"
   ]
  },
  {
   "cell_type": "code",
   "execution_count": 4,
   "id": "a78dcf3e",
   "metadata": {},
   "outputs": [],
   "source": [
    "index_path = './vector_store/complaint_chunks.index'\n",
    "metadata_path = './vector_store/complaint_chunks_metadata.pkl'\n",
    "index = load_faiss_index(index_path)\n",
    "metadata_list = load_metadata(metadata_path)"
   ]
  },
  {
   "cell_type": "code",
   "execution_count": 5,
   "id": "53eeb970",
   "metadata": {},
   "outputs": [],
   "source": [
    "# Prepare chunks and metadata\n",
    "all_chunks, metadata = prepare_chunks_and_metadata(df)"
   ]
  },
  {
   "cell_type": "code",
   "execution_count": 20,
   "id": "4b501f35",
   "metadata": {},
   "outputs": [
    {
     "name": "stdout",
     "output_type": "stream",
     "text": [
      "Result 1 (Distance: 0.6193)\n",
      "Complaint ID: 3554689, Product: Money transfer, virtual currency, or money service\n",
      "Text: the attempted transactions other than the 3 error messages immediately following the failed transfer attempts\n",
      "\n",
      "Result 2 (Distance: 0.6341)\n",
      "Complaint ID: 4207248, Product: Money transfer, virtual currency, or money service\n",
      "Text: affects the availability of your money transfer and some transactions\n",
      "\n",
      "Result 3 (Distance: 0.6344)\n",
      "Complaint ID: 3563183, Product: Money transfer, virtual currency, or money service\n",
      "Text: i find this a huge failure in communication and completely unacceptable when it comes to someones finances what if the situation was reversed and i was in fact calling to cancel a transfer if there was a similar failure in communication or someone failed\n",
      "\n",
      "Result 4 (Distance: 0.6555)\n",
      "Complaint ID: 10272723, Product: Money transfer, virtual currency, or money service\n",
      "Text: recipient and secondly processed payments that appeared as failed on their banking app\n",
      "\n",
      "Result 5 (Distance: 0.6597)\n",
      "Complaint ID: 11604299, Product: Money transfer, virtual currency, or money service\n",
      "Text: did not provide clear information regarding the risks of sending money to incorrect accounts including the difficulty of reversing such transactions as a result i  and many others  experienced financial losses when money was transferred to the wrong\n",
      "\n"
     ]
    }
   ],
   "source": [
    "question = \"What are the common reasons for failed transactions in Money Transfer?\"\n",
    "results = retrieve_similar_complaints(question, embedding_model, index, metadata_list, all_chunks, k=5)\n",
    "for i, (chunk, meta, dist) in enumerate(results, 1):\n",
    "        print(f\"Result {i} (Distance: {dist:.4f})\")\n",
    "        print(f\"Complaint ID: {meta['complaint_id']}, Product: {meta['product']}\")\n",
    "        print(f\"Text: {chunk}\\n\")"
   ]
  },
  {
   "cell_type": "code",
   "execution_count": 6,
   "id": "87e656e5",
   "metadata": {},
   "outputs": [],
   "source": [
    "# Prompt template for LLM retrieval-augmented generation\n",
    "PROMPT_TEMPLATE = (\n",
    "    \"You are a financial analyst assistant for CrediTrust. \"\n",
    "    \"Your task is to answer questions about customer complaints. \"\n",
    "    \"Use only the following retrieved complaint excerpts to formulate your answer. \"\n",
    "    \"If the context does not contain the answer, state that you don't have enough information.\\n\\n\"\n",
    "    \"Context:\\n{context}\\n\\n\"\n",
    "    \"Question: {question}\\n\"\n",
    "    \"Answer:\"\n",
    ")"
   ]
  },
  {
   "cell_type": "code",
   "execution_count": null,
   "id": "af96aa15",
   "metadata": {},
   "outputs": [],
   "source": [
    "questions = [\n",
    "    \"What are the reasons for complaints about saving accounts?\",\n",
    "    \"What are the common issues with credit cards?\",\n",
    "    \"Summarize fraud-related complaints for Money Transfer\",\n",
    "    \"Are there any complaints about loan approval delays?\",\n",
    "    \"What are the common reasons for failed transactions in Money Transfer?\",\n",
    "    \"Why are customers complaining about hidden fees in Credit Cards?\",\n",
    "    \"What evidence suggest fraud in saving accounts complaints?\",\n",
    "    \"List complaints related to unauthorized transactions?\",\n",
    "    \"What are the common issues with personal loans?\",\n",
    "    \"what are refund requests in Money Transfer\",\n",
    "    ]\n",
    "\n",
    "# create df to store answers\n",
    "answer_df = pd.DataFrame(columns=['question', 'answer', 'context'])\n",
    "\n",
    "for question in questions:\n",
    "    # Retrieve similar complaints\n",
    "    print(f\"Processing question: {question}\")\n",
    "    results = retrieve_similar_complaints(question, embedding_model, index, metadata_list, all_chunks, k=15)\n",
    "    retrieved_chunks = [chunk for chunk, meta, dist in results]\n",
    "    answer = generate_llama_llm_answer(\n",
    "        question,\n",
    "        retrieved_chunks,\n",
    "        PROMPT_TEMPLATE,\n",
    "        model_name=\"meta-llama/Meta-Llama-3.1-8B-Instruct\"\n",
    "    )\n",
    "\n",
    "    # Save the answer to a df \n",
    "    answer_df = answer_df.append({\n",
    "        'question': question,\n",
    "        'answer': answer,\n",
    "        'context': \"\\n\".join(retrieved_chunks)\n",
    "    }, ignore_index=True)\n",
    "\n",
    "# Save the answers to a CSV file\n",
    "answer_df.to_csv('answers.csv', index=False)"
   ]
  },
  {
   "cell_type": "code",
   "execution_count": null,
   "id": "c814712a",
   "metadata": {},
   "outputs": [],
   "source": [
    "answer_df.head()  # Display the first few rows of the answer DataFrame"
   ]
  }
 ],
 "metadata": {
  "kernelspec": {
   "display_name": ".venv",
   "language": "python",
   "name": "python3"
  },
  "language_info": {
   "codemirror_mode": {
    "name": "ipython",
    "version": 3
   },
   "file_extension": ".py",
   "mimetype": "text/x-python",
   "name": "python",
   "nbconvert_exporter": "python",
   "pygments_lexer": "ipython3",
   "version": "3.12.3"
  }
 },
 "nbformat": 4,
 "nbformat_minor": 5
}
