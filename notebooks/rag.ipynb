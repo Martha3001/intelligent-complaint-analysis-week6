{
 "cells": [
  {
   "cell_type": "code",
   "execution_count": null,
   "id": "c4328d98",
   "metadata": {},
   "outputs": [],
   "source": [
    "import pandas as pd\n",
    "import os\n",
    "import sys\n",
    "module_path = os.path.abspath(os.path.join('..'))\n",
    "if module_path not in sys.path:\n",
    "    sys.path.append(module_path)\n",
    "from src.rag import (retrieve_similar_complaints, load_faiss_index, load_metadata, load_embedding_model,\n",
    "                     prepare_chunks_and_metadata)"
   ]
  },
  {
   "cell_type": "code",
   "execution_count": null,
   "id": "eba9648a",
   "metadata": {},
   "outputs": [],
   "source": [
    "file_path = '../data/chunked_complaints.csv'\n",
    "df = pd.read_csv(file_path)"
   ]
  },
  {
   "cell_type": "code",
   "execution_count": null,
   "id": "9a8493fc",
   "metadata": {},
   "outputs": [],
   "source": [
    "embedding_model = load_embedding_model('all-MiniLM-L6-v2')"
   ]
  },
  {
   "cell_type": "code",
   "execution_count": null,
   "id": "a78dcf3e",
   "metadata": {},
   "outputs": [],
   "source": [
    "index_path = './vector_store/complaint_chunks.index'\n",
    "metadata_path = './vector_store/complaint_chunks_metadata.pkl'\n",
    "index = load_faiss_index(index_path)\n",
    "metadata_list = load_metadata(metadata_path)"
   ]
  },
  {
   "cell_type": "code",
   "execution_count": null,
   "id": "53eeb970",
   "metadata": {},
   "outputs": [],
   "source": [
    "# Prepare chunks and metadata\n",
    "all_chunks, metadata = prepare_chunks_and_metadata(df)"
   ]
  },
  {
   "cell_type": "code",
   "execution_count": null,
   "id": "af96aa15",
   "metadata": {},
   "outputs": [],
   "source": [
    "question = \"Why are people unhappy with saving accounts?\"\n",
    "results = retrieve_similar_complaints(question, embedding_model, index, metadata_list, all_chunks, k=5)\n",
    "for i, (chunk, meta, dist) in enumerate(results, 1):\n",
    "    print(f\"Result {i} (Distance: {dist:.4f})\")\n",
    "    print(f\"Complaint ID: {meta['complaint_id']}, Product: {meta['product']}\")\n",
    "    print(f\"Text: {chunk}\\n\")"
   ]
  }
 ],
 "metadata": {
  "kernelspec": {
   "display_name": ".venv",
   "language": "python",
   "name": "python3"
  },
  "language_info": {
   "codemirror_mode": {
    "name": "ipython",
    "version": 3
   },
   "file_extension": ".py",
   "mimetype": "text/x-python",
   "name": "python",
   "nbconvert_exporter": "python",
   "pygments_lexer": "ipython3",
   "version": "3.12.3"
  }
 },
 "nbformat": 4,
 "nbformat_minor": 5
}
